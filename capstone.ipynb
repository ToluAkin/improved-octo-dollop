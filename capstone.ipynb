{
 "cells": [
  {
   "cell_type": "code",
   "execution_count": 1,
   "metadata": {},
   "outputs": [],
   "source": [
    "import pandas as pd\n",
    "import matplotlib.pyplot as plt\n",
    "import matplotlib as mpl\n",
    "import numpy as np\n",
    "%matplotlib inline"
   ]
  },
  {
   "cell_type": "code",
   "execution_count": 2,
   "metadata": {},
   "outputs": [],
   "source": [
    "outcomes = pd.read_csv('data/london-outcomes.csv')"
   ]
  },
  {
   "cell_type": "code",
   "execution_count": 3,
   "metadata": {},
   "outputs": [
    {
     "name": "stderr",
     "output_type": "stream",
     "text": [
      "C:\\Users\\Toluwalase\\Anaconda3\\lib\\site-packages\\IPython\\core\\interactiveshell.py:3020: DtypeWarning: Columns (2,13,14) have mixed types. Specify dtype option on import or set low_memory=False.\n",
      "  interactivity=interactivity, compiler=compiler, result=result)\n"
     ]
    }
   ],
   "source": [
    "police = pd.read_csv('data/london-stop-and-search.csv')"
   ]
  },
  {
   "cell_type": "code",
   "execution_count": 4,
   "metadata": {},
   "outputs": [],
   "source": [
    "street = pd.read_csv('data/london-street.csv')"
   ]
  },
  {
   "cell_type": "code",
   "execution_count": 5,
   "metadata": {},
   "outputs": [],
   "source": [
    "crime = pd.read_csv('data/london_crime_by_lsoa.csv')"
   ]
  },
  {
   "cell_type": "code",
   "execution_count": 6,
   "metadata": {},
   "outputs": [
    {
     "data": {
      "text/html": [
       "<div>\n",
       "<style scoped>\n",
       "    .dataframe tbody tr th:only-of-type {\n",
       "        vertical-align: middle;\n",
       "    }\n",
       "\n",
       "    .dataframe tbody tr th {\n",
       "        vertical-align: top;\n",
       "    }\n",
       "\n",
       "    .dataframe thead th {\n",
       "        text-align: right;\n",
       "    }\n",
       "</style>\n",
       "<table border=\"1\" class=\"dataframe\">\n",
       "  <thead>\n",
       "    <tr style=\"text-align: right;\">\n",
       "      <th></th>\n",
       "      <th>Type</th>\n",
       "      <th>Date</th>\n",
       "      <th>Part of a policing operation</th>\n",
       "      <th>Policing operation</th>\n",
       "      <th>Latitude</th>\n",
       "      <th>Longitude</th>\n",
       "      <th>Gender</th>\n",
       "      <th>Age range</th>\n",
       "      <th>Self-defined ethnicity</th>\n",
       "      <th>Officer-defined ethnicity</th>\n",
       "      <th>Legislation</th>\n",
       "      <th>Object of search</th>\n",
       "      <th>Outcome</th>\n",
       "      <th>Outcome linked to object of search</th>\n",
       "      <th>Removal of more than just outer clothing</th>\n",
       "    </tr>\n",
       "  </thead>\n",
       "  <tbody>\n",
       "    <tr>\n",
       "      <th>0</th>\n",
       "      <td>Person search</td>\n",
       "      <td>2015-03-02T16:40:00+00:00</td>\n",
       "      <td>NaN</td>\n",
       "      <td>NaN</td>\n",
       "      <td>NaN</td>\n",
       "      <td>NaN</td>\n",
       "      <td>Male</td>\n",
       "      <td>25-34</td>\n",
       "      <td>Asian or Asian British - Bangladeshi (A3)</td>\n",
       "      <td>Asian</td>\n",
       "      <td>Police and Criminal Evidence Act 1984 (section 1)</td>\n",
       "      <td>Stolen goods</td>\n",
       "      <td>Suspect arrested</td>\n",
       "      <td>True</td>\n",
       "      <td>False</td>\n",
       "    </tr>\n",
       "    <tr>\n",
       "      <th>1</th>\n",
       "      <td>Person search</td>\n",
       "      <td>2015-03-02T16:40:00+00:00</td>\n",
       "      <td>NaN</td>\n",
       "      <td>NaN</td>\n",
       "      <td>NaN</td>\n",
       "      <td>NaN</td>\n",
       "      <td>Male</td>\n",
       "      <td>25-34</td>\n",
       "      <td>Asian or Asian British - Bangladeshi (A3)</td>\n",
       "      <td>Asian</td>\n",
       "      <td>Police and Criminal Evidence Act 1984 (section 1)</td>\n",
       "      <td>Stolen goods</td>\n",
       "      <td>Suspect arrested</td>\n",
       "      <td>False</td>\n",
       "      <td>False</td>\n",
       "    </tr>\n",
       "    <tr>\n",
       "      <th>2</th>\n",
       "      <td>Person search</td>\n",
       "      <td>2015-03-02T18:45:00+00:00</td>\n",
       "      <td>NaN</td>\n",
       "      <td>NaN</td>\n",
       "      <td>NaN</td>\n",
       "      <td>NaN</td>\n",
       "      <td>Male</td>\n",
       "      <td>25-34</td>\n",
       "      <td>White - Any other White ethnic background (W9)</td>\n",
       "      <td>White</td>\n",
       "      <td>Police and Criminal Evidence Act 1984 (section 1)</td>\n",
       "      <td>NaN</td>\n",
       "      <td>Suspect arrested</td>\n",
       "      <td>True</td>\n",
       "      <td>True</td>\n",
       "    </tr>\n",
       "    <tr>\n",
       "      <th>3</th>\n",
       "      <td>Person search</td>\n",
       "      <td>2015-03-02T19:15:00+00:00</td>\n",
       "      <td>NaN</td>\n",
       "      <td>NaN</td>\n",
       "      <td>NaN</td>\n",
       "      <td>NaN</td>\n",
       "      <td>Male</td>\n",
       "      <td>over 34</td>\n",
       "      <td>White - White British (W1)</td>\n",
       "      <td>White</td>\n",
       "      <td>Police and Criminal Evidence Act 1984 (section 1)</td>\n",
       "      <td>Stolen goods</td>\n",
       "      <td>Suspect arrested</td>\n",
       "      <td>False</td>\n",
       "      <td>False</td>\n",
       "    </tr>\n",
       "    <tr>\n",
       "      <th>4</th>\n",
       "      <td>Person and Vehicle search</td>\n",
       "      <td>2015-03-03T15:50:00+00:00</td>\n",
       "      <td>NaN</td>\n",
       "      <td>NaN</td>\n",
       "      <td>NaN</td>\n",
       "      <td>NaN</td>\n",
       "      <td>Male</td>\n",
       "      <td>25-34</td>\n",
       "      <td>White - White British (W1)</td>\n",
       "      <td>White</td>\n",
       "      <td>Police and Criminal Evidence Act 1984 (section 1)</td>\n",
       "      <td>Stolen goods</td>\n",
       "      <td>Suspect arrested</td>\n",
       "      <td>True</td>\n",
       "      <td>True</td>\n",
       "    </tr>\n",
       "  </tbody>\n",
       "</table>\n",
       "</div>"
      ],
      "text/plain": [
       "                        Type                       Date  \\\n",
       "0              Person search  2015-03-02T16:40:00+00:00   \n",
       "1              Person search  2015-03-02T16:40:00+00:00   \n",
       "2              Person search  2015-03-02T18:45:00+00:00   \n",
       "3              Person search  2015-03-02T19:15:00+00:00   \n",
       "4  Person and Vehicle search  2015-03-03T15:50:00+00:00   \n",
       "\n",
       "  Part of a policing operation  Policing operation  Latitude  Longitude  \\\n",
       "0                          NaN                 NaN       NaN        NaN   \n",
       "1                          NaN                 NaN       NaN        NaN   \n",
       "2                          NaN                 NaN       NaN        NaN   \n",
       "3                          NaN                 NaN       NaN        NaN   \n",
       "4                          NaN                 NaN       NaN        NaN   \n",
       "\n",
       "  Gender Age range                          Self-defined ethnicity  \\\n",
       "0   Male     25-34       Asian or Asian British - Bangladeshi (A3)   \n",
       "1   Male     25-34       Asian or Asian British - Bangladeshi (A3)   \n",
       "2   Male     25-34  White - Any other White ethnic background (W9)   \n",
       "3   Male   over 34                      White - White British (W1)   \n",
       "4   Male     25-34                      White - White British (W1)   \n",
       "\n",
       "  Officer-defined ethnicity  \\\n",
       "0                     Asian   \n",
       "1                     Asian   \n",
       "2                     White   \n",
       "3                     White   \n",
       "4                     White   \n",
       "\n",
       "                                         Legislation Object of search  \\\n",
       "0  Police and Criminal Evidence Act 1984 (section 1)     Stolen goods   \n",
       "1  Police and Criminal Evidence Act 1984 (section 1)     Stolen goods   \n",
       "2  Police and Criminal Evidence Act 1984 (section 1)              NaN   \n",
       "3  Police and Criminal Evidence Act 1984 (section 1)     Stolen goods   \n",
       "4  Police and Criminal Evidence Act 1984 (section 1)     Stolen goods   \n",
       "\n",
       "            Outcome Outcome linked to object of search  \\\n",
       "0  Suspect arrested                               True   \n",
       "1  Suspect arrested                              False   \n",
       "2  Suspect arrested                               True   \n",
       "3  Suspect arrested                              False   \n",
       "4  Suspect arrested                               True   \n",
       "\n",
       "  Removal of more than just outer clothing  \n",
       "0                                    False  \n",
       "1                                    False  \n",
       "2                                     True  \n",
       "3                                    False  \n",
       "4                                     True  "
      ]
     },
     "execution_count": 6,
     "metadata": {},
     "output_type": "execute_result"
    }
   ],
   "source": [
    "police.head()"
   ]
  },
  {
   "cell_type": "code",
   "execution_count": 7,
   "metadata": {},
   "outputs": [
    {
     "data": {
      "text/html": [
       "<div>\n",
       "<style scoped>\n",
       "    .dataframe tbody tr th:only-of-type {\n",
       "        vertical-align: middle;\n",
       "    }\n",
       "\n",
       "    .dataframe tbody tr th {\n",
       "        vertical-align: top;\n",
       "    }\n",
       "\n",
       "    .dataframe thead th {\n",
       "        text-align: right;\n",
       "    }\n",
       "</style>\n",
       "<table border=\"1\" class=\"dataframe\">\n",
       "  <thead>\n",
       "    <tr style=\"text-align: right;\">\n",
       "      <th></th>\n",
       "      <th>Crime ID</th>\n",
       "      <th>Month</th>\n",
       "      <th>Reported by</th>\n",
       "      <th>Falls within</th>\n",
       "      <th>Longitude</th>\n",
       "      <th>Latitude</th>\n",
       "      <th>Location</th>\n",
       "      <th>LSOA code</th>\n",
       "      <th>LSOA name</th>\n",
       "      <th>Outcome type</th>\n",
       "    </tr>\n",
       "  </thead>\n",
       "  <tbody>\n",
       "    <tr>\n",
       "      <th>1947045</th>\n",
       "      <td>5186054ab0668f142d7cb79aec8376626c352d9c8db932...</td>\n",
       "      <td>2017-05</td>\n",
       "      <td>Metropolitan Police Service</td>\n",
       "      <td>Metropolitan Police Service</td>\n",
       "      <td>-0.242173</td>\n",
       "      <td>51.446627</td>\n",
       "      <td>On or near IBSLEY GARDENS</td>\n",
       "      <td>E01004570</td>\n",
       "      <td>Wandsworth 023B</td>\n",
       "      <td>Suspect charged</td>\n",
       "    </tr>\n",
       "    <tr>\n",
       "      <th>1947046</th>\n",
       "      <td>34f05f2da82bb45753654fba55266fee64ed6deac58168...</td>\n",
       "      <td>2017-05</td>\n",
       "      <td>Metropolitan Police Service</td>\n",
       "      <td>Metropolitan Police Service</td>\n",
       "      <td>-0.156772</td>\n",
       "      <td>51.442455</td>\n",
       "      <td>On or near HUNTER CLOSE</td>\n",
       "      <td>E01004545</td>\n",
       "      <td>Wandsworth 027B</td>\n",
       "      <td>Suspect charged</td>\n",
       "    </tr>\n",
       "    <tr>\n",
       "      <th>1947047</th>\n",
       "      <td>d53d0b9f8c8f4a75ef153a89d9b5e54a9a26ab99e82f8b...</td>\n",
       "      <td>2017-05</td>\n",
       "      <td>Metropolitan Police Service</td>\n",
       "      <td>Metropolitan Police Service</td>\n",
       "      <td>-0.150844</td>\n",
       "      <td>51.474510</td>\n",
       "      <td>On or near RAWSON STREET</td>\n",
       "      <td>E01004563</td>\n",
       "      <td>Wandsworth 002C</td>\n",
       "      <td>Suspect charged</td>\n",
       "    </tr>\n",
       "    <tr>\n",
       "      <th>1947048</th>\n",
       "      <td>23cac61d3b0500a733a220664555305f337ac90a053993...</td>\n",
       "      <td>2017-05</td>\n",
       "      <td>Metropolitan Police Service</td>\n",
       "      <td>Metropolitan Police Service</td>\n",
       "      <td>-0.174952</td>\n",
       "      <td>51.467217</td>\n",
       "      <td>On or near LAVENDER ROAD</td>\n",
       "      <td>E01004535</td>\n",
       "      <td>Wandsworth 007A</td>\n",
       "      <td>Investigation complete; no suspect identified</td>\n",
       "    </tr>\n",
       "    <tr>\n",
       "      <th>1947049</th>\n",
       "      <td>95b8f2a05ba8577a632ea3fb9a58b37eb3ea985678b215...</td>\n",
       "      <td>2017-05</td>\n",
       "      <td>Metropolitan Police Service</td>\n",
       "      <td>Metropolitan Police Service</td>\n",
       "      <td>-0.191829</td>\n",
       "      <td>51.447830</td>\n",
       "      <td>On or near LYDDEN GROVE</td>\n",
       "      <td>E01004493</td>\n",
       "      <td>Wandsworth 019A</td>\n",
       "      <td>Investigation complete; no suspect identified</td>\n",
       "    </tr>\n",
       "  </tbody>\n",
       "</table>\n",
       "</div>"
      ],
      "text/plain": [
       "                                                  Crime ID    Month  \\\n",
       "1947045  5186054ab0668f142d7cb79aec8376626c352d9c8db932...  2017-05   \n",
       "1947046  34f05f2da82bb45753654fba55266fee64ed6deac58168...  2017-05   \n",
       "1947047  d53d0b9f8c8f4a75ef153a89d9b5e54a9a26ab99e82f8b...  2017-05   \n",
       "1947048  23cac61d3b0500a733a220664555305f337ac90a053993...  2017-05   \n",
       "1947049  95b8f2a05ba8577a632ea3fb9a58b37eb3ea985678b215...  2017-05   \n",
       "\n",
       "                         Reported by                 Falls within  Longitude  \\\n",
       "1947045  Metropolitan Police Service  Metropolitan Police Service  -0.242173   \n",
       "1947046  Metropolitan Police Service  Metropolitan Police Service  -0.156772   \n",
       "1947047  Metropolitan Police Service  Metropolitan Police Service  -0.150844   \n",
       "1947048  Metropolitan Police Service  Metropolitan Police Service  -0.174952   \n",
       "1947049  Metropolitan Police Service  Metropolitan Police Service  -0.191829   \n",
       "\n",
       "          Latitude                   Location  LSOA code        LSOA name  \\\n",
       "1947045  51.446627  On or near IBSLEY GARDENS  E01004570  Wandsworth 023B   \n",
       "1947046  51.442455    On or near HUNTER CLOSE  E01004545  Wandsworth 027B   \n",
       "1947047  51.474510   On or near RAWSON STREET  E01004563  Wandsworth 002C   \n",
       "1947048  51.467217   On or near LAVENDER ROAD  E01004535  Wandsworth 007A   \n",
       "1947049  51.447830    On or near LYDDEN GROVE  E01004493  Wandsworth 019A   \n",
       "\n",
       "                                          Outcome type  \n",
       "1947045                                Suspect charged  \n",
       "1947046                                Suspect charged  \n",
       "1947047                                Suspect charged  \n",
       "1947048  Investigation complete; no suspect identified  \n",
       "1947049  Investigation complete; no suspect identified  "
      ]
     },
     "execution_count": 7,
     "metadata": {},
     "output_type": "execute_result"
    }
   ],
   "source": [
    "outcomes.head()\n",
    "outcomes.tail()"
   ]
  },
  {
   "cell_type": "code",
   "execution_count": 8,
   "metadata": {},
   "outputs": [
    {
     "data": {
      "text/html": [
       "<div>\n",
       "<style scoped>\n",
       "    .dataframe tbody tr th:only-of-type {\n",
       "        vertical-align: middle;\n",
       "    }\n",
       "\n",
       "    .dataframe tbody tr th {\n",
       "        vertical-align: top;\n",
       "    }\n",
       "\n",
       "    .dataframe thead th {\n",
       "        text-align: right;\n",
       "    }\n",
       "</style>\n",
       "<table border=\"1\" class=\"dataframe\">\n",
       "  <thead>\n",
       "    <tr style=\"text-align: right;\">\n",
       "      <th></th>\n",
       "      <th>Crime ID</th>\n",
       "      <th>Month</th>\n",
       "      <th>Reported by</th>\n",
       "      <th>Falls within</th>\n",
       "      <th>Longitude</th>\n",
       "      <th>Latitude</th>\n",
       "      <th>Location</th>\n",
       "      <th>LSOA code</th>\n",
       "      <th>LSOA name</th>\n",
       "      <th>Crime type</th>\n",
       "      <th>Last outcome category</th>\n",
       "      <th>Context</th>\n",
       "    </tr>\n",
       "  </thead>\n",
       "  <tbody>\n",
       "    <tr>\n",
       "      <th>0</th>\n",
       "      <td>324a40f7da5f81b2f6c96bc6fe3e300173782e3342f409...</td>\n",
       "      <td>2014-06</td>\n",
       "      <td>City of London Police</td>\n",
       "      <td>City of London Police</td>\n",
       "      <td>-0.113767</td>\n",
       "      <td>51.517372</td>\n",
       "      <td>On or near Stone Buildings</td>\n",
       "      <td>E01000914</td>\n",
       "      <td>Camden 028B</td>\n",
       "      <td>Vehicle crime</td>\n",
       "      <td>Investigation complete; no suspect identified</td>\n",
       "      <td>NaN</td>\n",
       "    </tr>\n",
       "    <tr>\n",
       "      <th>1</th>\n",
       "      <td>62dde92ceeb12755a8a95a2829048ce4796ba3cfb3f7c0...</td>\n",
       "      <td>2014-06</td>\n",
       "      <td>City of London Police</td>\n",
       "      <td>City of London Police</td>\n",
       "      <td>-0.111497</td>\n",
       "      <td>51.518226</td>\n",
       "      <td>On or near Pedestrian Subway</td>\n",
       "      <td>E01000914</td>\n",
       "      <td>Camden 028B</td>\n",
       "      <td>Violence and sexual offences</td>\n",
       "      <td>Unable to prosecute suspect</td>\n",
       "      <td>NaN</td>\n",
       "    </tr>\n",
       "    <tr>\n",
       "      <th>2</th>\n",
       "      <td>NaN</td>\n",
       "      <td>2014-06</td>\n",
       "      <td>City of London Police</td>\n",
       "      <td>City of London Police</td>\n",
       "      <td>-0.097601</td>\n",
       "      <td>51.520699</td>\n",
       "      <td>On or near Carthusian Street</td>\n",
       "      <td>E01000001</td>\n",
       "      <td>City of London 001A</td>\n",
       "      <td>Anti-social behaviour</td>\n",
       "      <td>NaN</td>\n",
       "      <td>NaN</td>\n",
       "    </tr>\n",
       "    <tr>\n",
       "      <th>3</th>\n",
       "      <td>NaN</td>\n",
       "      <td>2014-06</td>\n",
       "      <td>City of London Police</td>\n",
       "      <td>City of London Police</td>\n",
       "      <td>-0.097601</td>\n",
       "      <td>51.520699</td>\n",
       "      <td>On or near Carthusian Street</td>\n",
       "      <td>E01000001</td>\n",
       "      <td>City of London 001A</td>\n",
       "      <td>Anti-social behaviour</td>\n",
       "      <td>NaN</td>\n",
       "      <td>NaN</td>\n",
       "    </tr>\n",
       "    <tr>\n",
       "      <th>4</th>\n",
       "      <td>NaN</td>\n",
       "      <td>2014-06</td>\n",
       "      <td>City of London Police</td>\n",
       "      <td>City of London Police</td>\n",
       "      <td>-0.097601</td>\n",
       "      <td>51.520699</td>\n",
       "      <td>On or near Carthusian Street</td>\n",
       "      <td>E01000001</td>\n",
       "      <td>City of London 001A</td>\n",
       "      <td>Anti-social behaviour</td>\n",
       "      <td>NaN</td>\n",
       "      <td>NaN</td>\n",
       "    </tr>\n",
       "  </tbody>\n",
       "</table>\n",
       "</div>"
      ],
      "text/plain": [
       "                                            Crime ID    Month  \\\n",
       "0  324a40f7da5f81b2f6c96bc6fe3e300173782e3342f409...  2014-06   \n",
       "1  62dde92ceeb12755a8a95a2829048ce4796ba3cfb3f7c0...  2014-06   \n",
       "2                                                NaN  2014-06   \n",
       "3                                                NaN  2014-06   \n",
       "4                                                NaN  2014-06   \n",
       "\n",
       "             Reported by           Falls within  Longitude   Latitude  \\\n",
       "0  City of London Police  City of London Police  -0.113767  51.517372   \n",
       "1  City of London Police  City of London Police  -0.111497  51.518226   \n",
       "2  City of London Police  City of London Police  -0.097601  51.520699   \n",
       "3  City of London Police  City of London Police  -0.097601  51.520699   \n",
       "4  City of London Police  City of London Police  -0.097601  51.520699   \n",
       "\n",
       "                       Location  LSOA code            LSOA name  \\\n",
       "0    On or near Stone Buildings  E01000914          Camden 028B   \n",
       "1  On or near Pedestrian Subway  E01000914          Camden 028B   \n",
       "2  On or near Carthusian Street  E01000001  City of London 001A   \n",
       "3  On or near Carthusian Street  E01000001  City of London 001A   \n",
       "4  On or near Carthusian Street  E01000001  City of London 001A   \n",
       "\n",
       "                     Crime type  \\\n",
       "0                 Vehicle crime   \n",
       "1  Violence and sexual offences   \n",
       "2         Anti-social behaviour   \n",
       "3         Anti-social behaviour   \n",
       "4         Anti-social behaviour   \n",
       "\n",
       "                           Last outcome category  Context  \n",
       "0  Investigation complete; no suspect identified      NaN  \n",
       "1                    Unable to prosecute suspect      NaN  \n",
       "2                                            NaN      NaN  \n",
       "3                                            NaN      NaN  \n",
       "4                                            NaN      NaN  "
      ]
     },
     "execution_count": 8,
     "metadata": {},
     "output_type": "execute_result"
    }
   ],
   "source": [
    "street.head()"
   ]
  },
  {
   "cell_type": "code",
   "execution_count": 9,
   "metadata": {},
   "outputs": [
    {
     "data": {
      "text/html": [
       "<div>\n",
       "<style scoped>\n",
       "    .dataframe tbody tr th:only-of-type {\n",
       "        vertical-align: middle;\n",
       "    }\n",
       "\n",
       "    .dataframe tbody tr th {\n",
       "        vertical-align: top;\n",
       "    }\n",
       "\n",
       "    .dataframe thead th {\n",
       "        text-align: right;\n",
       "    }\n",
       "</style>\n",
       "<table border=\"1\" class=\"dataframe\">\n",
       "  <thead>\n",
       "    <tr style=\"text-align: right;\">\n",
       "      <th></th>\n",
       "      <th>lsoa_code</th>\n",
       "      <th>borough</th>\n",
       "      <th>major_category</th>\n",
       "      <th>minor_category</th>\n",
       "      <th>value</th>\n",
       "      <th>year</th>\n",
       "      <th>month</th>\n",
       "    </tr>\n",
       "  </thead>\n",
       "  <tbody>\n",
       "    <tr>\n",
       "      <th>0</th>\n",
       "      <td>E01001116</td>\n",
       "      <td>Croydon</td>\n",
       "      <td>Burglary</td>\n",
       "      <td>Burglary in Other Buildings</td>\n",
       "      <td>0</td>\n",
       "      <td>2016</td>\n",
       "      <td>11</td>\n",
       "    </tr>\n",
       "    <tr>\n",
       "      <th>1</th>\n",
       "      <td>E01001646</td>\n",
       "      <td>Greenwich</td>\n",
       "      <td>Violence Against the Person</td>\n",
       "      <td>Other violence</td>\n",
       "      <td>0</td>\n",
       "      <td>2016</td>\n",
       "      <td>11</td>\n",
       "    </tr>\n",
       "    <tr>\n",
       "      <th>2</th>\n",
       "      <td>E01000677</td>\n",
       "      <td>Bromley</td>\n",
       "      <td>Violence Against the Person</td>\n",
       "      <td>Other violence</td>\n",
       "      <td>0</td>\n",
       "      <td>2015</td>\n",
       "      <td>5</td>\n",
       "    </tr>\n",
       "    <tr>\n",
       "      <th>3</th>\n",
       "      <td>E01003774</td>\n",
       "      <td>Redbridge</td>\n",
       "      <td>Burglary</td>\n",
       "      <td>Burglary in Other Buildings</td>\n",
       "      <td>0</td>\n",
       "      <td>2016</td>\n",
       "      <td>3</td>\n",
       "    </tr>\n",
       "    <tr>\n",
       "      <th>4</th>\n",
       "      <td>E01004563</td>\n",
       "      <td>Wandsworth</td>\n",
       "      <td>Robbery</td>\n",
       "      <td>Personal Property</td>\n",
       "      <td>0</td>\n",
       "      <td>2008</td>\n",
       "      <td>6</td>\n",
       "    </tr>\n",
       "  </tbody>\n",
       "</table>\n",
       "</div>"
      ],
      "text/plain": [
       "   lsoa_code     borough               major_category  \\\n",
       "0  E01001116     Croydon                     Burglary   \n",
       "1  E01001646   Greenwich  Violence Against the Person   \n",
       "2  E01000677     Bromley  Violence Against the Person   \n",
       "3  E01003774   Redbridge                     Burglary   \n",
       "4  E01004563  Wandsworth                      Robbery   \n",
       "\n",
       "                minor_category  value  year  month  \n",
       "0  Burglary in Other Buildings      0  2016     11  \n",
       "1               Other violence      0  2016     11  \n",
       "2               Other violence      0  2015      5  \n",
       "3  Burglary in Other Buildings      0  2016      3  \n",
       "4            Personal Property      0  2008      6  "
      ]
     },
     "execution_count": 9,
     "metadata": {},
     "output_type": "execute_result"
    }
   ],
   "source": [
    "crime.head()"
   ]
  },
  {
   "cell_type": "code",
   "execution_count": 10,
   "metadata": {},
   "outputs": [],
   "source": [
    "outcomes.drop(['Crime ID', 'Longitude', 'Latitude', 'LSOA code', 'LSOA name'], axis=1, inplace=True)"
   ]
  },
  {
   "cell_type": "code",
   "execution_count": 29,
   "metadata": {},
   "outputs": [
    {
     "name": "stdout",
     "output_type": "stream",
     "text": [
      "<class 'pandas.core.frame.DataFrame'>\n",
      "RangeIndex: 1947050 entries, 0 to 1947049\n",
      "Data columns (total 5 columns):\n",
      "Month           object\n",
      "Reported by     object\n",
      "Falls within    object\n",
      "Location        object\n",
      "Outcome type    object\n",
      "dtypes: object(5)\n",
      "memory usage: 74.3+ MB\n"
     ]
    }
   ],
   "source": [
    "outcomes.info()"
   ]
  },
  {
   "cell_type": "code",
   "execution_count": 12,
   "metadata": {},
   "outputs": [],
   "source": [
    "police.drop(['Latitude', 'Longitude'], axis=1, inplace=True)"
   ]
  },
  {
   "cell_type": "code",
   "execution_count": 13,
   "metadata": {},
   "outputs": [
    {
     "data": {
      "text/plain": [
       "Index(['Type', 'Date', 'Part of a policing operation', 'Policing operation',\n",
       "       'Gender', 'Age range', 'Self-defined ethnicity',\n",
       "       'Officer-defined ethnicity', 'Legislation', 'Object of search',\n",
       "       'Outcome', 'Outcome linked to object of search',\n",
       "       'Removal of more than just outer clothing'],\n",
       "      dtype='object')"
      ]
     },
     "execution_count": 13,
     "metadata": {},
     "output_type": "execute_result"
    }
   ],
   "source": [
    "police.columns"
   ]
  },
  {
   "cell_type": "code",
   "execution_count": 14,
   "metadata": {},
   "outputs": [
    {
     "data": {
      "text/plain": [
       "Index(['Month', 'Reported by', 'Falls within', 'Location', 'Crime type',\n",
       "       'Last outcome category'],\n",
       "      dtype='object')"
      ]
     },
     "execution_count": 14,
     "metadata": {},
     "output_type": "execute_result"
    }
   ],
   "source": [
    "street.drop(['Crime ID', 'Longitude', 'Latitude', 'LSOA code', 'LSOA name', 'Context'], axis=1, inplace=True)\n",
    "street.columns"
   ]
  },
  {
   "cell_type": "code",
   "execution_count": 30,
   "metadata": {},
   "outputs": [
    {
     "data": {
      "text/plain": [
       "array(['2014-06', '2014-07', '2014-08', '2014-09', '2014-10', '2014-11',\n",
       "       '2014-12', '2015-01', '2015-02', '2015-03', '2015-04', '2015-05',\n",
       "       '2015-06', '2015-07', '2015-08', '2015-09', '2015-10', '2015-11',\n",
       "       '2015-12', '2016-01', '2016-02', '2016-03', '2016-04', '2016-05',\n",
       "       '2016-06', '2016-07', '2016-08', '2016-09', '2016-10', '2016-11',\n",
       "       '2016-12', '2017-01', '2017-02', '2017-03', '2017-04', '2017-05'],\n",
       "      dtype=object)"
      ]
     },
     "execution_count": 30,
     "metadata": {},
     "output_type": "execute_result"
    }
   ],
   "source": [
    "street['Month'].unique()"
   ]
  },
  {
   "cell_type": "code",
   "execution_count": 25,
   "metadata": {},
   "outputs": [
    {
     "data": {
      "text/plain": [
       "Anti-social behaviour           708264\n",
       "Violence and sexual offences    596107\n",
       "Other theft                     333817\n",
       "Vehicle crime                   262309\n",
       "Burglary                        213125\n",
       "Criminal damage and arson       184772\n",
       "Shoplifting                     135780\n",
       "Public order                    130653\n",
       "Theft from the person           109168\n",
       "Drugs                           106836\n",
       "Robbery                          68920\n",
       "Bicycle theft                    54649\n",
       "Other crime                      29208\n",
       "Possession of weapons            12871\n",
       "Name: Crime type, dtype: int64"
      ]
     },
     "execution_count": 25,
     "metadata": {},
     "output_type": "execute_result"
    }
   ],
   "source": [
    "street['Crime type'].value_counts(dropna=False)"
   ]
  },
  {
   "cell_type": "code",
   "execution_count": 15,
   "metadata": {},
   "outputs": [
    {
     "data": {
      "image/png": "[encoded data removed]",
      "text/plain": [
       "<Figure size 432x288 with 1 Axes>"
      ]
     },
     "metadata": {
      "needs_background": "light"
     },
     "output_type": "display_data"
    }
   ],
   "source": [
    "x = street['Crime type'].tolist()\n",
    "plt.hist(x, bins=50)\n",
    "plt.ylabel(\"Frequency\")\n",
    "plt.xlabel(\"Crime Type\")\n",
    "plt.title(\"Crimes with the presence City of London Police\")\n",
    "plt.xticks(rotation='vertical')\n",
    "plt.show()"
   ]
  },
  {
   "cell_type": "code",
   "execution_count": 17,
   "metadata": {},
   "outputs": [
    {
     "data": {
      "text/plain": [
       "Theft and Handling             3966300\n",
       "Violence Against the Person    3171744\n",
       "Criminal Damage                2069172\n",
       "Drugs                          1179468\n",
       "Burglary                       1043604\n",
       "Robbery                         939384\n",
       "Other Notifiable Offences       776304\n",
       "Fraud or Forgery                236520\n",
       "Sexual Offences                 108108\n",
       "Name: major_category, dtype: int64"
      ]
     },
     "execution_count": 17,
     "metadata": {},
     "output_type": "execute_result"
    }
   ],
   "source": [
    "crime['major_category'].value_counts(dropna=False)"
   ]
  },
  {
   "cell_type": "code",
   "execution_count": 18,
   "metadata": {},
   "outputs": [
    {
     "data": {
      "image/png": "[encoded data removed]",
      "text/plain": [
       "<Figure size 432x288 with 1 Axes>"
      ]
     },
     "metadata": {
      "needs_background": "light"
     },
     "output_type": "display_data"
    }
   ],
   "source": [
    "x = crime['major_category'].tolist()\n",
    "plt.hist(x, bins=50)\n",
    "plt.ylabel(\"Frequency\")\n",
    "plt.xlabel(\"Crime Type\")\n",
    "plt.title(\"Different major crimes in Borough, London between 2008-2016\")\n",
    "plt.xticks(rotation='vertical')\n",
    "plt.show()"
   ]
  },
  {
   "cell_type": "code",
   "execution_count": 28,
   "metadata": {},
   "outputs": [
    {
     "data": {
      "text/plain": [
       "Other Theft                               522180\n",
       "Theft From Motor Vehicle                  522180\n",
       "Common Assault                            522180\n",
       "Harassment                                522072\n",
       "Burglary in Other Buildings               522072\n",
       "Theft/Taking Of Motor Vehicle             522072\n",
       "Criminal Damage To Motor Vehicle          521964\n",
       "Assault with Injury                       521856\n",
       "Other Criminal Damage                     521856\n",
       "Possession Of Drugs                       521748\n",
       "Burglary in a Dwelling                    521532\n",
       "Criminal Damage To Dwelling               521424\n",
       "Personal Property                         520668\n",
       "Motor Vehicle Interference & Tampering    520452\n",
       "Other Notifiable                          519696\n",
       "Other Theft Person                        519480\n",
       "Wounding/GBH                              519372\n",
       "Theft/Taking of Pedal Cycle               516996\n",
       "Other violence                            512028\n",
       "Criminal Damage To Other Building         503928\n",
       "Drug Trafficking                          490536\n",
       "Offensive Weapon                          481896\n",
       "Handling Stolen Goods                     426168\n",
       "Business Property                         418716\n",
       "Theft From Shops                          416772\n",
       "Going Equipped                            256608\n",
       "Other Drugs                               167184\n",
       "Counted per Victim                        137916\n",
       "Other Fraud & Forgery                      98604\n",
       "Murder                                     92340\n",
       "Other Sexual                               81108\n",
       "Rape                                       27000\n",
       "Name: minor_category, dtype: int64"
      ]
     },
     "execution_count": 28,
     "metadata": {},
     "output_type": "execute_result"
    }
   ],
   "source": [
    "crime['minor_category'].value_counts(dropna=False)"
   ]
  },
  {
   "cell_type": "code",
   "execution_count": 19,
   "metadata": {},
   "outputs": [
    {
     "data": {
      "text/plain": [
       "Croydon                   602100\n",
       "Barnet                    572832\n",
       "Ealing                    549396\n",
       "Bromley                   523908\n",
       "Lambeth                   519048\n",
       "Enfield                   511164\n",
       "Wandsworth                498636\n",
       "Brent                     490644\n",
       "Lewisham                  485136\n",
       "Southwark                 483300\n",
       "Newham                    471420\n",
       "Redbridge                 445716\n",
       "Hillingdon                442584\n",
       "Greenwich                 421200\n",
       "Hackney                   417744\n",
       "Haringey                  413856\n",
       "Tower Hamlets             412128\n",
       "Waltham Forest            406296\n",
       "Havering                  399600\n",
       "Hounslow                  395928\n",
       "Bexley                    385668\n",
       "Camden                    378432\n",
       "Westminster               366660\n",
       "Harrow                    365688\n",
       "Islington                 359208\n",
       "Merton                    339876\n",
       "Hammersmith and Fulham    328752\n",
       "Sutton                    322488\n",
       "Barking and Dagenham      311040\n",
       "Richmond upon Thames      304128\n",
       "Kensington and Chelsea    296784\n",
       "Kingston upon Thames      259524\n",
       "City of London              9720\n",
       "Name: borough, dtype: int64"
      ]
     },
     "execution_count": 19,
     "metadata": {},
     "output_type": "execute_result"
    }
   ],
   "source": [
    "crime['borough'].value_counts(dropna=False)"
   ]
  },
  {
   "cell_type": "code",
   "execution_count": 24,
   "metadata": {},
   "outputs": [
    {
     "data": {
      "text/plain": [
       "12    1124217\n",
       "11    1124217\n",
       "10    1124217\n",
       "9     1124217\n",
       "8     1124217\n",
       "7     1124217\n",
       "6     1124217\n",
       "5     1124217\n",
       "4     1124217\n",
       "3     1124217\n",
       "2     1124217\n",
       "1     1124217\n",
       "Name: month, dtype: int64"
      ]
     },
     "execution_count": 24,
     "metadata": {},
     "output_type": "execute_result"
    }
   ],
   "source": [
    "crime['month'].value_counts(dropna=False)"
   ]
  },
  {
   "cell_type": "code",
   "execution_count": 23,
   "metadata": {},
   "outputs": [
    {
     "data": {
      "image/png": "[encoded data removed]",
      "text/plain": [
       "<Figure size 432x288 with 1 Axes>"
      ]
     },
     "metadata": {
      "needs_background": "light"
     },
     "output_type": "display_data"
    }
   ],
   "source": [
    "x = crime['month'].tolist()\n",
    "plt.hist(x, bins=50)\n",
    "plt.ylabel(\"Frequency\")\n",
    "plt.xlabel(\"Month\")\n",
    "plt.xticks(rotation='vertical')\n",
    "plt.show()"
   ]
  },
  {
   "cell_type": "code",
   "execution_count": 22,
   "metadata": {},
   "outputs": [
    {
     "data": {
      "text/plain": [
       "Index(['borough', 'major_category', 'minor_category', 'year', 'month'], dtype='object')"
      ]
     },
     "execution_count": 22,
     "metadata": {},
     "output_type": "execute_result"
    }
   ],
   "source": [
    "crime.drop(['lsoa_code', 'value'], axis=1, inplace=True)\n",
    "crime.columns"
   ]
  },
  {
   "cell_type": "code",
   "execution_count": 19,
   "metadata": {},
   "outputs": [
    {
     "data": {
      "text/plain": [
       "array([2016, 2015, 2008, 2012, 2010, 2013, 2014, 2011, 2009], dtype=int64)"
      ]
     },
     "execution_count": 19,
     "metadata": {},
     "output_type": "execute_result"
    }
   ],
   "source": [
    "crime['year'].unique()"
   ]
  },
  {
   "cell_type": "code",
   "execution_count": 26,
   "metadata": {},
   "outputs": [
    {
     "data": {
      "text/plain": [
       "2016    1498956\n",
       "2015    1498956\n",
       "2014    1498956\n",
       "2013    1498956\n",
       "2012    1498956\n",
       "2011    1498956\n",
       "2010    1498956\n",
       "2009    1498956\n",
       "2008    1498956\n",
       "Name: year, dtype: int64"
      ]
     },
     "execution_count": 26,
     "metadata": {},
     "output_type": "execute_result"
    }
   ],
   "source": [
    "crime['year'].value_counts()"
   ]
  },
  {
   "cell_type": "code",
   "execution_count": 27,
   "metadata": {},
   "outputs": [
    {
     "data": {
      "image/png": "[encoded data removed]",
      "text/plain": [
       "<Figure size 432x288 with 1 Axes>"
      ]
     },
     "metadata": {
      "needs_background": "light"
     },
     "output_type": "display_data"
    }
   ],
   "source": [
    "x = crime['year'].tolist()\n",
    "plt.hist(x, bins=50)\n",
    "plt.ylabel(\"Frequency\")\n",
    "plt.xlabel(\"Month\")\n",
    "plt.xticks(rotation='vertical')\n",
    "plt.show()"
   ]
  },
  {
   "cell_type": "code",
   "execution_count": 21,
   "metadata": {},
   "outputs": [
    {
     "name": "stdout",
     "output_type": "stream",
     "text": [
      "<class 'pandas.core.frame.DataFrame'>\n",
      "RangeIndex: 13490604 entries, 0 to 13490603\n",
      "Data columns (total 5 columns):\n",
      "borough           object\n",
      "major_category    object\n",
      "minor_category    object\n",
      "year              int64\n",
      "month             int64\n",
      "dtypes: int64(2), object(3)\n",
      "memory usage: 514.6+ MB\n"
     ]
    }
   ],
   "source": [
    "crime.info()"
   ]
  },
  {
   "cell_type": "code",
   "execution_count": 22,
   "metadata": {},
   "outputs": [],
   "source": [
    "isCrime08 = crime['year']==2008"
   ]
  },
  {
   "cell_type": "code",
   "execution_count": 23,
   "metadata": {},
   "outputs": [],
   "source": [
    "crime08 = crime[isCrime08]"
   ]
  },
  {
   "cell_type": "code",
   "execution_count": 24,
   "metadata": {},
   "outputs": [
    {
     "data": {
      "text/html": [
       "<div>\n",
       "<style scoped>\n",
       "    .dataframe tbody tr th:only-of-type {\n",
       "        vertical-align: middle;\n",
       "    }\n",
       "\n",
       "    .dataframe tbody tr th {\n",
       "        vertical-align: top;\n",
       "    }\n",
       "\n",
       "    .dataframe thead th {\n",
       "        text-align: right;\n",
       "    }\n",
       "</style>\n",
       "<table border=\"1\" class=\"dataframe\">\n",
       "  <thead>\n",
       "    <tr style=\"text-align: right;\">\n",
       "      <th></th>\n",
       "      <th>borough</th>\n",
       "      <th>major_category</th>\n",
       "      <th>minor_category</th>\n",
       "      <th>year</th>\n",
       "      <th>month</th>\n",
       "    </tr>\n",
       "  </thead>\n",
       "  <tbody>\n",
       "    <tr>\n",
       "      <th>4</th>\n",
       "      <td>Wandsworth</td>\n",
       "      <td>Robbery</td>\n",
       "      <td>Personal Property</td>\n",
       "      <td>2008</td>\n",
       "      <td>6</td>\n",
       "    </tr>\n",
       "    <tr>\n",
       "      <th>33</th>\n",
       "      <td>Havering</td>\n",
       "      <td>Violence Against the Person</td>\n",
       "      <td>Harassment</td>\n",
       "      <td>2008</td>\n",
       "      <td>1</td>\n",
       "    </tr>\n",
       "    <tr>\n",
       "      <th>34</th>\n",
       "      <td>Hillingdon</td>\n",
       "      <td>Violence Against the Person</td>\n",
       "      <td>Offensive Weapon</td>\n",
       "      <td>2008</td>\n",
       "      <td>10</td>\n",
       "    </tr>\n",
       "    <tr>\n",
       "      <th>46</th>\n",
       "      <td>Westminster</td>\n",
       "      <td>Criminal Damage</td>\n",
       "      <td>Other Criminal Damage</td>\n",
       "      <td>2008</td>\n",
       "      <td>11</td>\n",
       "    </tr>\n",
       "    <tr>\n",
       "      <th>54</th>\n",
       "      <td>Bexley</td>\n",
       "      <td>Theft and Handling</td>\n",
       "      <td>Theft/Taking Of Motor Vehicle</td>\n",
       "      <td>2008</td>\n",
       "      <td>5</td>\n",
       "    </tr>\n",
       "  </tbody>\n",
       "</table>\n",
       "</div>"
      ],
      "text/plain": [
       "        borough               major_category                 minor_category  \\\n",
       "4    Wandsworth                      Robbery              Personal Property   \n",
       "33     Havering  Violence Against the Person                     Harassment   \n",
       "34   Hillingdon  Violence Against the Person               Offensive Weapon   \n",
       "46  Westminster              Criminal Damage          Other Criminal Damage   \n",
       "54       Bexley           Theft and Handling  Theft/Taking Of Motor Vehicle   \n",
       "\n",
       "    year  month  \n",
       "4   2008      6  \n",
       "33  2008      1  \n",
       "34  2008     10  \n",
       "46  2008     11  \n",
       "54  2008      5  "
      ]
     },
     "execution_count": 24,
     "metadata": {},
     "output_type": "execute_result"
    }
   ],
   "source": [
    "crime08.head()"
   ]
  },
  {
   "cell_type": "code",
   "execution_count": 26,
   "metadata": {},
   "outputs": [
    {
     "data": {
      "text/plain": [
       "Theft and Handling             440700\n",
       "Violence Against the Person    352416\n",
       "Criminal Damage                229908\n",
       "Drugs                          131052\n",
       "Burglary                       115956\n",
       "Robbery                        104376\n",
       "Other Notifiable Offences       86256\n",
       "Fraud or Forgery                26280\n",
       "Sexual Offences                 12012\n",
       "Name: major_category, dtype: int64"
      ]
     },
     "execution_count": 26,
     "metadata": {},
     "output_type": "execute_result"
    }
   ],
   "source": [
    "crime08['major_category'].value_counts()"
   ]
  },
  {
   "cell_type": "code",
   "execution_count": null,
   "metadata": {},
   "outputs": [],
   "source": []
  }
 ],
 "metadata": {
  "kernelspec": {
   "display_name": "Python 3",
   "language": "python",
   "name": "python3"
  },
  "language_info": {
   "codemirror_mode": {
    "name": "ipython",
    "version": 3
   },
   "file_extension": ".py",
   "mimetype": "text/x-python",
   "name": "python",
   "nbconvert_exporter": "python",
   "pygments_lexer": "ipython3",
   "version": "3.7.1"
  }
 },
 "nbformat": 4,
 "nbformat_minor": 2
}
