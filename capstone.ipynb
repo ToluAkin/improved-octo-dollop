{
 "cells": [
  {
   "cell_type": "code",
   "execution_count": 1,
   "metadata": {},
   "outputs": [],
   "source": [
    "import pandas as pd\n",
    "import matplotlib.pyplot as plt\n",
    "import matplotlib as mpl\n",
    "import numpy as np\n",
    "%matplotlib inline"
   ]
  },
  {
   "cell_type": "code",
   "execution_count": 2,
   "metadata": {},
   "outputs": [],
   "source": [
    "outcomes = pd.read_csv('data/london-outcomes.csv')"
   ]
  },
  {
   "cell_type": "code",
   "execution_count": 3,
   "metadata": {},
   "outputs": [
    {
     "name": "stderr",
     "output_type": "stream",
     "text": [
      "C:\\Users\\Toluwalase\\Anaconda3\\lib\\site-packages\\IPython\\core\\interactiveshell.py:3020: DtypeWarning: Columns (2,13,14) have mixed types. Specify dtype option on import or set low_memory=False.\n",
      "  interactivity=interactivity, compiler=compiler, result=result)\n"
     ]
    }
   ],
   "source": [
    "police = pd.read_csv('data/london-stop-and-search.csv')"
   ]
  },
  {
   "cell_type": "code",
   "execution_count": 4,
   "metadata": {},
   "outputs": [],
   "source": [
    "street = pd.read_csv('data/london-street.csv')"
   ]
  },
  {
   "cell_type": "code",
   "execution_count": 5,
   "metadata": {},
   "outputs": [],
   "source": [
    "crime = pd.read_csv('data/london_crime_by_lsoa.csv')"
   ]
  },
  {
   "cell_type": "code",
   "execution_count": 6,
   "metadata": {},
   "outputs": [
    {
     "data": {
      "text/html": [
       "<div>\n",
       "<style scoped>\n",
       "    .dataframe tbody tr th:only-of-type {\n",
       "        vertical-align: middle;\n",
       "    }\n",
       "\n",
       "    .dataframe tbody tr th {\n",
       "        vertical-align: top;\n",
       "    }\n",
       "\n",
       "    .dataframe thead th {\n",
       "        text-align: right;\n",
       "    }\n",
       "</style>\n",
       "<table border=\"1\" class=\"dataframe\">\n",
       "  <thead>\n",
       "    <tr style=\"text-align: right;\">\n",
       "      <th></th>\n",
       "      <th>Type</th>\n",
       "      <th>Date</th>\n",
       "      <th>Part of a policing operation</th>\n",
       "      <th>Policing operation</th>\n",
       "      <th>Latitude</th>\n",
       "      <th>Longitude</th>\n",
       "      <th>Gender</th>\n",
       "      <th>Age range</th>\n",
       "      <th>Self-defined ethnicity</th>\n",
       "      <th>Officer-defined ethnicity</th>\n",
       "      <th>Legislation</th>\n",
       "      <th>Object of search</th>\n",
       "      <th>Outcome</th>\n",
       "      <th>Outcome linked to object of search</th>\n",
       "      <th>Removal of more than just outer clothing</th>\n",
       "    </tr>\n",
       "  </thead>\n",
       "  <tbody>\n",
       "    <tr>\n",
       "      <th>0</th>\n",
       "      <td>Person search</td>\n",
       "      <td>2015-03-02T16:40:00+00:00</td>\n",
       "      <td>NaN</td>\n",
       "      <td>NaN</td>\n",
       "      <td>NaN</td>\n",
       "      <td>NaN</td>\n",
       "      <td>Male</td>\n",
       "      <td>25-34</td>\n",
       "      <td>Asian or Asian British - Bangladeshi (A3)</td>\n",
       "      <td>Asian</td>\n",
       "      <td>Police and Criminal Evidence Act 1984 (section 1)</td>\n",
       "      <td>Stolen goods</td>\n",
       "      <td>Suspect arrested</td>\n",
       "      <td>True</td>\n",
       "      <td>False</td>\n",
       "    </tr>\n",
       "    <tr>\n",
       "      <th>1</th>\n",
       "      <td>Person search</td>\n",
       "      <td>2015-03-02T16:40:00+00:00</td>\n",
       "      <td>NaN</td>\n",
       "      <td>NaN</td>\n",
       "      <td>NaN</td>\n",
       "      <td>NaN</td>\n",
       "      <td>Male</td>\n",
       "      <td>25-34</td>\n",
       "      <td>Asian or Asian British - Bangladeshi (A3)</td>\n",
       "      <td>Asian</td>\n",
       "      <td>Police and Criminal Evidence Act 1984 (section 1)</td>\n",
       "      <td>Stolen goods</td>\n",
       "      <td>Suspect arrested</td>\n",
       "      <td>False</td>\n",
       "      <td>False</td>\n",
       "    </tr>\n",
       "    <tr>\n",
       "      <th>2</th>\n",
       "      <td>Person search</td>\n",
       "      <td>2015-03-02T18:45:00+00:00</td>\n",
       "      <td>NaN</td>\n",
       "      <td>NaN</td>\n",
       "      <td>NaN</td>\n",
       "      <td>NaN</td>\n",
       "      <td>Male</td>\n",
       "      <td>25-34</td>\n",
       "      <td>White - Any other White ethnic background (W9)</td>\n",
       "      <td>White</td>\n",
       "      <td>Police and Criminal Evidence Act 1984 (section 1)</td>\n",
       "      <td>NaN</td>\n",
       "      <td>Suspect arrested</td>\n",
       "      <td>True</td>\n",
       "      <td>True</td>\n",
       "    </tr>\n",
       "    <tr>\n",
       "      <th>3</th>\n",
       "      <td>Person search</td>\n",
       "      <td>2015-03-02T19:15:00+00:00</td>\n",
       "      <td>NaN</td>\n",
       "      <td>NaN</td>\n",
       "      <td>NaN</td>\n",
       "      <td>NaN</td>\n",
       "      <td>Male</td>\n",
       "      <td>over 34</td>\n",
       "      <td>White - White British (W1)</td>\n",
       "      <td>White</td>\n",
       "      <td>Police and Criminal Evidence Act 1984 (section 1)</td>\n",
       "      <td>Stolen goods</td>\n",
       "      <td>Suspect arrested</td>\n",
       "      <td>False</td>\n",
       "      <td>False</td>\n",
       "    </tr>\n",
       "    <tr>\n",
       "      <th>4</th>\n",
       "      <td>Person and Vehicle search</td>\n",
       "      <td>2015-03-03T15:50:00+00:00</td>\n",
       "      <td>NaN</td>\n",
       "      <td>NaN</td>\n",
       "      <td>NaN</td>\n",
       "      <td>NaN</td>\n",
       "      <td>Male</td>\n",
       "      <td>25-34</td>\n",
       "      <td>White - White British (W1)</td>\n",
       "      <td>White</td>\n",
       "      <td>Police and Criminal Evidence Act 1984 (section 1)</td>\n",
       "      <td>Stolen goods</td>\n",
       "      <td>Suspect arrested</td>\n",
       "      <td>True</td>\n",
       "      <td>True</td>\n",
       "    </tr>\n",
       "  </tbody>\n",
       "</table>\n",
       "</div>"
      ],
      "text/plain": [
       "                        Type                       Date  \\\n",
       "0              Person search  2015-03-02T16:40:00+00:00   \n",
       "1              Person search  2015-03-02T16:40:00+00:00   \n",
       "2              Person search  2015-03-02T18:45:00+00:00   \n",
       "3              Person search  2015-03-02T19:15:00+00:00   \n",
       "4  Person and Vehicle search  2015-03-03T15:50:00+00:00   \n",
       "\n",
       "  Part of a policing operation  Policing operation  Latitude  Longitude  \\\n",
       "0                          NaN                 NaN       NaN        NaN   \n",
       "1                          NaN                 NaN       NaN        NaN   \n",
       "2                          NaN                 NaN       NaN        NaN   \n",
       "3                          NaN                 NaN       NaN        NaN   \n",
       "4                          NaN                 NaN       NaN        NaN   \n",
       "\n",
       "  Gender Age range                          Self-defined ethnicity  \\\n",
       "0   Male     25-34       Asian or Asian British - Bangladeshi (A3)   \n",
       "1   Male     25-34       Asian or Asian British - Bangladeshi (A3)   \n",
       "2   Male     25-34  White - Any other White ethnic background (W9)   \n",
       "3   Male   over 34                      White - White British (W1)   \n",
       "4   Male     25-34                      White - White British (W1)   \n",
       "\n",
       "  Officer-defined ethnicity  \\\n",
       "0                     Asian   \n",
       "1                     Asian   \n",
       "2                     White   \n",
       "3                     White   \n",
       "4                     White   \n",
       "\n",
       "                                         Legislation Object of search  \\\n",
       "0  Police and Criminal Evidence Act 1984 (section 1)     Stolen goods   \n",
       "1  Police and Criminal Evidence Act 1984 (section 1)     Stolen goods   \n",
       "2  Police and Criminal Evidence Act 1984 (section 1)              NaN   \n",
       "3  Police and Criminal Evidence Act 1984 (section 1)     Stolen goods   \n",
       "4  Police and Criminal Evidence Act 1984 (section 1)     Stolen goods   \n",
       "\n",
       "            Outcome Outcome linked to object of search  \\\n",
       "0  Suspect arrested                               True   \n",
       "1  Suspect arrested                              False   \n",
       "2  Suspect arrested                               True   \n",
       "3  Suspect arrested                              False   \n",
       "4  Suspect arrested                               True   \n",
       "\n",
       "  Removal of more than just outer clothing  \n",
       "0                                    False  \n",
       "1                                    False  \n",
       "2                                     True  \n",
       "3                                    False  \n",
       "4                                     True  "
      ]
     },
     "execution_count": 6,
     "metadata": {},
     "output_type": "execute_result"
    }
   ],
   "source": [
    "police.head()"
   ]
  },
  {
   "cell_type": "code",
   "execution_count": 67,
   "metadata": {},
   "outputs": [
    {
     "data": {
      "text/plain": [
       "Person search                226691\n",
       "Person and Vehicle search     72290\n",
       "Vehicle search                 3642\n",
       "Name: Type, dtype: int64"
      ]
     },
     "execution_count": 67,
     "metadata": {},
     "output_type": "execute_result"
    }
   ],
   "source": [
    "police['Type'].value_counts(dropna=False)"
   ]
  },
  {
   "cell_type": "code",
   "execution_count": 68,
   "metadata": {},
   "outputs": [
    {
     "data": {
      "text/plain": [
       "Controlled drugs                       134843\n",
       "NaN                                     86467\n",
       "Articles for use in criminal damage     77222\n",
       "Firearms                                 2136\n",
       "Stolen goods                              968\n",
       "Anything to threaten or harm anyone       588\n",
       "Article for use in theft                  287\n",
       "Offensive weapons                         107\n",
       "Evidence of offences under the Act          3\n",
       "Fireworks                                   2\n",
       "Name: Object of search, dtype: int64"
      ]
     },
     "execution_count": 68,
     "metadata": {},
     "output_type": "execute_result"
    }
   ],
   "source": [
    "police['Object of search'].value_counts(dropna=False)"
   ]
  },
  {
   "cell_type": "code",
   "execution_count": 6,
   "metadata": {},
   "outputs": [],
   "source": [
    "police.dropna(subset=['Object of search'], how='all', inplace = True)"
   ]
  },
  {
   "cell_type": "code",
   "execution_count": 7,
   "metadata": {},
   "outputs": [
    {
     "data": {
      "text/plain": [
       "Controlled drugs                       134843\n",
       "Articles for use in criminal damage     77222\n",
       "Firearms                                 2136\n",
       "Stolen goods                              968\n",
       "Anything to threaten or harm anyone       588\n",
       "Article for use in theft                  287\n",
       "Offensive weapons                         107\n",
       "Evidence of offences under the Act          3\n",
       "Fireworks                                   2\n",
       "Name: Object of search, dtype: int64"
      ]
     },
     "execution_count": 7,
     "metadata": {},
     "output_type": "execute_result"
    }
   ],
   "source": [
    "police['Object of search'].value_counts(dropna=False)"
   ]
  },
  {
   "cell_type": "code",
   "execution_count": 79,
   "metadata": {},
   "outputs": [
    {
     "data": {
      "text/plain": [
       "array(['2015-03-02T16:40:00+00:00', '2015-03-02T19:15:00+00:00',\n",
       "       '2015-03-03T15:50:00+00:00', ..., '2017-04-30T22:25:00+00:00',\n",
       "       '2017-04-30T22:35:00+00:00', '2017-04-30T22:40:00+00:00'],\n",
       "      dtype=object)"
      ]
     },
     "execution_count": 79,
     "metadata": {},
     "output_type": "execute_result"
    }
   ],
   "source": [
    "ps['Date'].unique()"
   ]
  },
  {
   "cell_type": "code",
   "execution_count": 76,
   "metadata": {},
   "outputs": [
    {
     "data": {
      "text/html": [
       "<div>\n",
       "<style scoped>\n",
       "    .dataframe tbody tr th:only-of-type {\n",
       "        vertical-align: middle;\n",
       "    }\n",
       "\n",
       "    .dataframe tbody tr th {\n",
       "        vertical-align: top;\n",
       "    }\n",
       "\n",
       "    .dataframe thead th {\n",
       "        text-align: right;\n",
       "    }\n",
       "</style>\n",
       "<table border=\"1\" class=\"dataframe\">\n",
       "  <thead>\n",
       "    <tr style=\"text-align: right;\">\n",
       "      <th></th>\n",
       "      <th>Date</th>\n",
       "      <th>Type</th>\n",
       "      <th>Object of search</th>\n",
       "    </tr>\n",
       "  </thead>\n",
       "  <tbody>\n",
       "    <tr>\n",
       "      <th>0</th>\n",
       "      <td>2015-03-02T16:40:00+00:00</td>\n",
       "      <td>Person search</td>\n",
       "      <td>Stolen goods</td>\n",
       "    </tr>\n",
       "    <tr>\n",
       "      <th>1</th>\n",
       "      <td>2015-03-02T16:40:00+00:00</td>\n",
       "      <td>Person search</td>\n",
       "      <td>Stolen goods</td>\n",
       "    </tr>\n",
       "    <tr>\n",
       "      <th>3</th>\n",
       "      <td>2015-03-02T19:15:00+00:00</td>\n",
       "      <td>Person search</td>\n",
       "      <td>Stolen goods</td>\n",
       "    </tr>\n",
       "    <tr>\n",
       "      <th>4</th>\n",
       "      <td>2015-03-03T15:50:00+00:00</td>\n",
       "      <td>Person and Vehicle search</td>\n",
       "      <td>Stolen goods</td>\n",
       "    </tr>\n",
       "    <tr>\n",
       "      <th>5</th>\n",
       "      <td>2015-03-03T20:20:00+00:00</td>\n",
       "      <td>Person search</td>\n",
       "      <td>Controlled drugs</td>\n",
       "    </tr>\n",
       "  </tbody>\n",
       "</table>\n",
       "</div>"
      ],
      "text/plain": [
       "                        Date                       Type  Object of search\n",
       "0  2015-03-02T16:40:00+00:00              Person search      Stolen goods\n",
       "1  2015-03-02T16:40:00+00:00              Person search      Stolen goods\n",
       "3  2015-03-02T19:15:00+00:00              Person search      Stolen goods\n",
       "4  2015-03-03T15:50:00+00:00  Person and Vehicle search      Stolen goods\n",
       "5  2015-03-03T20:20:00+00:00              Person search  Controlled drugs"
      ]
     },
     "execution_count": 76,
     "metadata": {},
     "output_type": "execute_result"
    }
   ],
   "source": [
    "ps= police[['Date','Type', 'Object of search']]\n",
    "ps.head()"
   ]
  },
  {
   "cell_type": "code",
   "execution_count": 78,
   "metadata": {},
   "outputs": [
    {
     "data": {
      "text/html": [
       "<div>\n",
       "<style scoped>\n",
       "    .dataframe tbody tr th:only-of-type {\n",
       "        vertical-align: middle;\n",
       "    }\n",
       "\n",
       "    .dataframe tbody tr th {\n",
       "        vertical-align: top;\n",
       "    }\n",
       "\n",
       "    .dataframe thead th {\n",
       "        text-align: right;\n",
       "    }\n",
       "</style>\n",
       "<table border=\"1\" class=\"dataframe\">\n",
       "  <thead>\n",
       "    <tr style=\"text-align: right;\">\n",
       "      <th></th>\n",
       "      <th>Date</th>\n",
       "      <th>Type</th>\n",
       "      <th>Object of search</th>\n",
       "    </tr>\n",
       "  </thead>\n",
       "  <tbody>\n",
       "    <tr>\n",
       "      <th>0</th>\n",
       "      <td>2015-03-02T16:40:00+00:00</td>\n",
       "      <td>Person search</td>\n",
       "      <td>Stolen goods</td>\n",
       "    </tr>\n",
       "    <tr>\n",
       "      <th>1</th>\n",
       "      <td>2015-03-02T16:40:00+00:00</td>\n",
       "      <td>Person search</td>\n",
       "      <td>Stolen goods</td>\n",
       "    </tr>\n",
       "    <tr>\n",
       "      <th>3</th>\n",
       "      <td>2015-03-02T19:15:00+00:00</td>\n",
       "      <td>Person search</td>\n",
       "      <td>Stolen goods</td>\n",
       "    </tr>\n",
       "    <tr>\n",
       "      <th>5</th>\n",
       "      <td>2015-03-03T20:20:00+00:00</td>\n",
       "      <td>Person search</td>\n",
       "      <td>Controlled drugs</td>\n",
       "    </tr>\n",
       "    <tr>\n",
       "      <th>7</th>\n",
       "      <td>2015-03-04T15:50:00+00:00</td>\n",
       "      <td>Person search</td>\n",
       "      <td>Article for use in theft</td>\n",
       "    </tr>\n",
       "  </tbody>\n",
       "</table>\n",
       "</div>"
      ],
      "text/plain": [
       "                        Date           Type          Object of search\n",
       "0  2015-03-02T16:40:00+00:00  Person search              Stolen goods\n",
       "1  2015-03-02T16:40:00+00:00  Person search              Stolen goods\n",
       "3  2015-03-02T19:15:00+00:00  Person search              Stolen goods\n",
       "5  2015-03-03T20:20:00+00:00  Person search          Controlled drugs\n",
       "7  2015-03-04T15:50:00+00:00  Person search  Article for use in theft"
      ]
     },
     "execution_count": 78,
     "metadata": {},
     "output_type": "execute_result"
    }
   ],
   "source": [
    "isSearch = ps['Type'] == 'Person search'\n",
    "searchType = ps[isSearch]\n",
    "searchType.head()"
   ]
  },
  {
   "cell_type": "code",
   "execution_count": 80,
   "metadata": {},
   "outputs": [
    {
     "data": {
      "image/png": "[encoded data removed]",
      "text/plain": [
       "<Figure size 432x288 with 1 Axes>"
      ]
     },
     "metadata": {
      "needs_background": "light"
     },
     "output_type": "display_data"
    }
   ],
   "source": [
    "x = searchType['Object of search'].tolist()\n",
    "plt.hist(x, bins=50)\n",
    "plt.ylabel(\"Frequency\")\n",
    "plt.xlabel(\"Object of search\")\n",
    "plt.title(\"Person search items by police in the city of London between 2015-2017 \")\n",
    "plt.xticks(rotation='vertical')\n",
    "plt.show()"
   ]
  },
  {
   "cell_type": "code",
   "execution_count": 81,
   "metadata": {},
   "outputs": [
    {
     "data": {
      "text/html": [
       "<div>\n",
       "<style scoped>\n",
       "    .dataframe tbody tr th:only-of-type {\n",
       "        vertical-align: middle;\n",
       "    }\n",
       "\n",
       "    .dataframe tbody tr th {\n",
       "        vertical-align: top;\n",
       "    }\n",
       "\n",
       "    .dataframe thead th {\n",
       "        text-align: right;\n",
       "    }\n",
       "</style>\n",
       "<table border=\"1\" class=\"dataframe\">\n",
       "  <thead>\n",
       "    <tr style=\"text-align: right;\">\n",
       "      <th></th>\n",
       "      <th>Date</th>\n",
       "      <th>Type</th>\n",
       "      <th>Object of search</th>\n",
       "    </tr>\n",
       "  </thead>\n",
       "  <tbody>\n",
       "    <tr>\n",
       "      <th>4</th>\n",
       "      <td>2015-03-03T15:50:00+00:00</td>\n",
       "      <td>Person and Vehicle search</td>\n",
       "      <td>Stolen goods</td>\n",
       "    </tr>\n",
       "    <tr>\n",
       "      <th>6</th>\n",
       "      <td>2015-03-03T20:28:00+00:00</td>\n",
       "      <td>Person and Vehicle search</td>\n",
       "      <td>Controlled drugs</td>\n",
       "    </tr>\n",
       "    <tr>\n",
       "      <th>11</th>\n",
       "      <td>2015-03-05T13:35:00+00:00</td>\n",
       "      <td>Person and Vehicle search</td>\n",
       "      <td>Controlled drugs</td>\n",
       "    </tr>\n",
       "    <tr>\n",
       "      <th>12</th>\n",
       "      <td>2015-03-05T15:00:00+00:00</td>\n",
       "      <td>Person and Vehicle search</td>\n",
       "      <td>Controlled drugs</td>\n",
       "    </tr>\n",
       "    <tr>\n",
       "      <th>14</th>\n",
       "      <td>2015-03-06T15:30:00+00:00</td>\n",
       "      <td>Person and Vehicle search</td>\n",
       "      <td>Stolen goods</td>\n",
       "    </tr>\n",
       "  </tbody>\n",
       "</table>\n",
       "</div>"
      ],
      "text/plain": [
       "                         Date                       Type  Object of search\n",
       "4   2015-03-03T15:50:00+00:00  Person and Vehicle search      Stolen goods\n",
       "6   2015-03-03T20:28:00+00:00  Person and Vehicle search  Controlled drugs\n",
       "11  2015-03-05T13:35:00+00:00  Person and Vehicle search  Controlled drugs\n",
       "12  2015-03-05T15:00:00+00:00  Person and Vehicle search  Controlled drugs\n",
       "14  2015-03-06T15:30:00+00:00  Person and Vehicle search      Stolen goods"
      ]
     },
     "execution_count": 81,
     "metadata": {},
     "output_type": "execute_result"
    }
   ],
   "source": [
    "isSearchPV = ps['Type'] == 'Person and Vehicle search'\n",
    "searchTypePV = ps[isSearchPV]\n",
    "searchTypePV.head()"
   ]
  },
  {
   "cell_type": "code",
   "execution_count": 82,
   "metadata": {},
   "outputs": [
    {
     "data": {
      "image/png": "[encoded data removed]",
      "text/plain": [
       "<Figure size 432x288 with 1 Axes>"
      ]
     },
     "metadata": {
      "needs_background": "light"
     },
     "output_type": "display_data"
    }
   ],
   "source": [
    "x = searchTypePV['Object of search'].tolist()\n",
    "plt.hist(x, bins=50)\n",
    "plt.ylabel(\"Frequency\")\n",
    "plt.xlabel(\"Object of search\")\n",
    "plt.title(\"Person and Vehicle search items by police in the city of London between 2015-2017\")\n",
    "plt.xticks(rotation='vertical')\n",
    "plt.show()"
   ]
  },
  {
   "cell_type": "code",
   "execution_count": 83,
   "metadata": {},
   "outputs": [
    {
     "data": {
      "text/html": [
       "<div>\n",
       "<style scoped>\n",
       "    .dataframe tbody tr th:only-of-type {\n",
       "        vertical-align: middle;\n",
       "    }\n",
       "\n",
       "    .dataframe tbody tr th {\n",
       "        vertical-align: top;\n",
       "    }\n",
       "\n",
       "    .dataframe thead th {\n",
       "        text-align: right;\n",
       "    }\n",
       "</style>\n",
       "<table border=\"1\" class=\"dataframe\">\n",
       "  <thead>\n",
       "    <tr style=\"text-align: right;\">\n",
       "      <th></th>\n",
       "      <th>Date</th>\n",
       "      <th>Type</th>\n",
       "      <th>Object of search</th>\n",
       "    </tr>\n",
       "  </thead>\n",
       "  <tbody>\n",
       "    <tr>\n",
       "      <th>2668</th>\n",
       "      <td>2017-01-27T00:30:00+00:00</td>\n",
       "      <td>Vehicle search</td>\n",
       "      <td>Anything to threaten or harm anyone</td>\n",
       "    </tr>\n",
       "    <tr>\n",
       "      <th>2683</th>\n",
       "      <td>2017-02-03T17:17:00+00:00</td>\n",
       "      <td>Vehicle search</td>\n",
       "      <td>Stolen goods</td>\n",
       "    </tr>\n",
       "    <tr>\n",
       "      <th>2860</th>\n",
       "      <td>2017-03-24T09:47:00+00:00</td>\n",
       "      <td>Vehicle search</td>\n",
       "      <td>Anything to threaten or harm anyone</td>\n",
       "    </tr>\n",
       "    <tr>\n",
       "      <th>89347</th>\n",
       "      <td>2015-11-01T00:02:00+00:00</td>\n",
       "      <td>Vehicle search</td>\n",
       "      <td>Articles for use in criminal damage</td>\n",
       "    </tr>\n",
       "    <tr>\n",
       "      <th>89611</th>\n",
       "      <td>2015-11-01T22:40:00+00:00</td>\n",
       "      <td>Vehicle search</td>\n",
       "      <td>Articles for use in criminal damage</td>\n",
       "    </tr>\n",
       "  </tbody>\n",
       "</table>\n",
       "</div>"
      ],
      "text/plain": [
       "                            Date            Type  \\\n",
       "2668   2017-01-27T00:30:00+00:00  Vehicle search   \n",
       "2683   2017-02-03T17:17:00+00:00  Vehicle search   \n",
       "2860   2017-03-24T09:47:00+00:00  Vehicle search   \n",
       "89347  2015-11-01T00:02:00+00:00  Vehicle search   \n",
       "89611  2015-11-01T22:40:00+00:00  Vehicle search   \n",
       "\n",
       "                          Object of search  \n",
       "2668   Anything to threaten or harm anyone  \n",
       "2683                          Stolen goods  \n",
       "2860   Anything to threaten or harm anyone  \n",
       "89347  Articles for use in criminal damage  \n",
       "89611  Articles for use in criminal damage  "
      ]
     },
     "execution_count": 83,
     "metadata": {},
     "output_type": "execute_result"
    }
   ],
   "source": [
    "isSearchV = ps['Type'] == 'Vehicle search'\n",
    "searchTypeV = ps[isSearchV]\n",
    "searchTypeV.head()"
   ]
  },
  {
   "cell_type": "code",
   "execution_count": 84,
   "metadata": {},
   "outputs": [
    {
     "data": {
      "image/png": "[encoded data removed]",
      "text/plain": [
       "<Figure size 432x288 with 1 Axes>"
      ]
     },
     "metadata": {
      "needs_background": "light"
     },
     "output_type": "display_data"
    }
   ],
   "source": [
    "x = searchTypeV['Object of search'].tolist()\n",
    "plt.hist(x, bins=50)\n",
    "plt.ylabel(\"Frequency\")\n",
    "plt.xlabel(\"Object of search\")\n",
    "plt.title(\"Vehicle search items by police in the city of London between 2015-2017\")\n",
    "plt.xticks(rotation='vertical')\n",
    "plt.show()"
   ]
  },
  {
   "cell_type": "code",
   "execution_count": 69,
   "metadata": {},
   "outputs": [
    {
     "data": {
      "text/plain": [
       "Nothing found - no further action               207963\n",
       "Suspect arrested                                 59130\n",
       "Offender given drugs possession warning          25518\n",
       "Offender given penalty notice                     5441\n",
       "Local resolution                                  2285\n",
       "Suspect summonsed to court                        1889\n",
       "Offender cautioned                                 340\n",
       "Article found - Detailed outcome unavailable        57\n",
       "Name: Outcome, dtype: int64"
      ]
     },
     "execution_count": 69,
     "metadata": {},
     "output_type": "execute_result"
    }
   ],
   "source": [
    "police['Outcome'].value_counts(dropna=False)"
   ]
  },
  {
   "cell_type": "code",
   "execution_count": 70,
   "metadata": {},
   "outputs": [
    {
     "data": {
      "text/plain": [
       "NaN      301417\n",
       "True        911\n",
       "False       295\n",
       "Name: Outcome linked to object of search, dtype: int64"
      ]
     },
     "execution_count": 70,
     "metadata": {},
     "output_type": "execute_result"
    }
   ],
   "source": [
    "police['Outcome linked to object of search'].value_counts(dropna=False)"
   ]
  },
  {
   "cell_type": "code",
   "execution_count": 7,
   "metadata": {},
   "outputs": [
    {
     "data": {
      "text/html": [
       "<div>\n",
       "<style scoped>\n",
       "    .dataframe tbody tr th:only-of-type {\n",
       "        vertical-align: middle;\n",
       "    }\n",
       "\n",
       "    .dataframe tbody tr th {\n",
       "        vertical-align: top;\n",
       "    }\n",
       "\n",
       "    .dataframe thead th {\n",
       "        text-align: right;\n",
       "    }\n",
       "</style>\n",
       "<table border=\"1\" class=\"dataframe\">\n",
       "  <thead>\n",
       "    <tr style=\"text-align: right;\">\n",
       "      <th></th>\n",
       "      <th>Crime ID</th>\n",
       "      <th>Month</th>\n",
       "      <th>Reported by</th>\n",
       "      <th>Falls within</th>\n",
       "      <th>Longitude</th>\n",
       "      <th>Latitude</th>\n",
       "      <th>Location</th>\n",
       "      <th>LSOA code</th>\n",
       "      <th>LSOA name</th>\n",
       "      <th>Outcome type</th>\n",
       "    </tr>\n",
       "  </thead>\n",
       "  <tbody>\n",
       "    <tr>\n",
       "      <th>1947045</th>\n",
       "      <td>5186054ab0668f142d7cb79aec8376626c352d9c8db932...</td>\n",
       "      <td>2017-05</td>\n",
       "      <td>Metropolitan Police Service</td>\n",
       "      <td>Metropolitan Police Service</td>\n",
       "      <td>-0.242173</td>\n",
       "      <td>51.446627</td>\n",
       "      <td>On or near IBSLEY GARDENS</td>\n",
       "      <td>E01004570</td>\n",
       "      <td>Wandsworth 023B</td>\n",
       "      <td>Suspect charged</td>\n",
       "    </tr>\n",
       "    <tr>\n",
       "      <th>1947046</th>\n",
       "      <td>34f05f2da82bb45753654fba55266fee64ed6deac58168...</td>\n",
       "      <td>2017-05</td>\n",
       "      <td>Metropolitan Police Service</td>\n",
       "      <td>Metropolitan Police Service</td>\n",
       "      <td>-0.156772</td>\n",
       "      <td>51.442455</td>\n",
       "      <td>On or near HUNTER CLOSE</td>\n",
       "      <td>E01004545</td>\n",
       "      <td>Wandsworth 027B</td>\n",
       "      <td>Suspect charged</td>\n",
       "    </tr>\n",
       "    <tr>\n",
       "      <th>1947047</th>\n",
       "      <td>d53d0b9f8c8f4a75ef153a89d9b5e54a9a26ab99e82f8b...</td>\n",
       "      <td>2017-05</td>\n",
       "      <td>Metropolitan Police Service</td>\n",
       "      <td>Metropolitan Police Service</td>\n",
       "      <td>-0.150844</td>\n",
       "      <td>51.474510</td>\n",
       "      <td>On or near RAWSON STREET</td>\n",
       "      <td>E01004563</td>\n",
       "      <td>Wandsworth 002C</td>\n",
       "      <td>Suspect charged</td>\n",
       "    </tr>\n",
       "    <tr>\n",
       "      <th>1947048</th>\n",
       "      <td>23cac61d3b0500a733a220664555305f337ac90a053993...</td>\n",
       "      <td>2017-05</td>\n",
       "      <td>Metropolitan Police Service</td>\n",
       "      <td>Metropolitan Police Service</td>\n",
       "      <td>-0.174952</td>\n",
       "      <td>51.467217</td>\n",
       "      <td>On or near LAVENDER ROAD</td>\n",
       "      <td>E01004535</td>\n",
       "      <td>Wandsworth 007A</td>\n",
       "      <td>Investigation complete; no suspect identified</td>\n",
       "    </tr>\n",
       "    <tr>\n",
       "      <th>1947049</th>\n",
       "      <td>95b8f2a05ba8577a632ea3fb9a58b37eb3ea985678b215...</td>\n",
       "      <td>2017-05</td>\n",
       "      <td>Metropolitan Police Service</td>\n",
       "      <td>Metropolitan Police Service</td>\n",
       "      <td>-0.191829</td>\n",
       "      <td>51.447830</td>\n",
       "      <td>On or near LYDDEN GROVE</td>\n",
       "      <td>E01004493</td>\n",
       "      <td>Wandsworth 019A</td>\n",
       "      <td>Investigation complete; no suspect identified</td>\n",
       "    </tr>\n",
       "  </tbody>\n",
       "</table>\n",
       "</div>"
      ],
      "text/plain": [
       "                                                  Crime ID    Month  \\\n",
       "1947045  5186054ab0668f142d7cb79aec8376626c352d9c8db932...  2017-05   \n",
       "1947046  34f05f2da82bb45753654fba55266fee64ed6deac58168...  2017-05   \n",
       "1947047  d53d0b9f8c8f4a75ef153a89d9b5e54a9a26ab99e82f8b...  2017-05   \n",
       "1947048  23cac61d3b0500a733a220664555305f337ac90a053993...  2017-05   \n",
       "1947049  95b8f2a05ba8577a632ea3fb9a58b37eb3ea985678b215...  2017-05   \n",
       "\n",
       "                         Reported by                 Falls within  Longitude  \\\n",
       "1947045  Metropolitan Police Service  Metropolitan Police Service  -0.242173   \n",
       "1947046  Metropolitan Police Service  Metropolitan Police Service  -0.156772   \n",
       "1947047  Metropolitan Police Service  Metropolitan Police Service  -0.150844   \n",
       "1947048  Metropolitan Police Service  Metropolitan Police Service  -0.174952   \n",
       "1947049  Metropolitan Police Service  Metropolitan Police Service  -0.191829   \n",
       "\n",
       "          Latitude                   Location  LSOA code        LSOA name  \\\n",
       "1947045  51.446627  On or near IBSLEY GARDENS  E01004570  Wandsworth 023B   \n",
       "1947046  51.442455    On or near HUNTER CLOSE  E01004545  Wandsworth 027B   \n",
       "1947047  51.474510   On or near RAWSON STREET  E01004563  Wandsworth 002C   \n",
       "1947048  51.467217   On or near LAVENDER ROAD  E01004535  Wandsworth 007A   \n",
       "1947049  51.447830    On or near LYDDEN GROVE  E01004493  Wandsworth 019A   \n",
       "\n",
       "                                          Outcome type  \n",
       "1947045                                Suspect charged  \n",
       "1947046                                Suspect charged  \n",
       "1947047                                Suspect charged  \n",
       "1947048  Investigation complete; no suspect identified  \n",
       "1947049  Investigation complete; no suspect identified  "
      ]
     },
     "execution_count": 7,
     "metadata": {},
     "output_type": "execute_result"
    }
   ],
   "source": [
    "outcomes.head()\n",
    "outcomes.tail()"
   ]
  },
  {
   "cell_type": "code",
   "execution_count": 8,
   "metadata": {},
   "outputs": [
    {
     "data": {
      "text/html": [
       "<div>\n",
       "<style scoped>\n",
       "    .dataframe tbody tr th:only-of-type {\n",
       "        vertical-align: middle;\n",
       "    }\n",
       "\n",
       "    .dataframe tbody tr th {\n",
       "        vertical-align: top;\n",
       "    }\n",
       "\n",
       "    .dataframe thead th {\n",
       "        text-align: right;\n",
       "    }\n",
       "</style>\n",
       "<table border=\"1\" class=\"dataframe\">\n",
       "  <thead>\n",
       "    <tr style=\"text-align: right;\">\n",
       "      <th></th>\n",
       "      <th>Crime ID</th>\n",
       "      <th>Month</th>\n",
       "      <th>Reported by</th>\n",
       "      <th>Falls within</th>\n",
       "      <th>Longitude</th>\n",
       "      <th>Latitude</th>\n",
       "      <th>Location</th>\n",
       "      <th>LSOA code</th>\n",
       "      <th>LSOA name</th>\n",
       "      <th>Crime type</th>\n",
       "      <th>Last outcome category</th>\n",
       "      <th>Context</th>\n",
       "    </tr>\n",
       "  </thead>\n",
       "  <tbody>\n",
       "    <tr>\n",
       "      <th>0</th>\n",
       "      <td>324a40f7da5f81b2f6c96bc6fe3e300173782e3342f409...</td>\n",
       "      <td>2014-06</td>\n",
       "      <td>City of London Police</td>\n",
       "      <td>City of London Police</td>\n",
       "      <td>-0.113767</td>\n",
       "      <td>51.517372</td>\n",
       "      <td>On or near Stone Buildings</td>\n",
       "      <td>E01000914</td>\n",
       "      <td>Camden 028B</td>\n",
       "      <td>Vehicle crime</td>\n",
       "      <td>Investigation complete; no suspect identified</td>\n",
       "      <td>NaN</td>\n",
       "    </tr>\n",
       "    <tr>\n",
       "      <th>1</th>\n",
       "      <td>62dde92ceeb12755a8a95a2829048ce4796ba3cfb3f7c0...</td>\n",
       "      <td>2014-06</td>\n",
       "      <td>City of London Police</td>\n",
       "      <td>City of London Police</td>\n",
       "      <td>-0.111497</td>\n",
       "      <td>51.518226</td>\n",
       "      <td>On or near Pedestrian Subway</td>\n",
       "      <td>E01000914</td>\n",
       "      <td>Camden 028B</td>\n",
       "      <td>Violence and sexual offences</td>\n",
       "      <td>Unable to prosecute suspect</td>\n",
       "      <td>NaN</td>\n",
       "    </tr>\n",
       "    <tr>\n",
       "      <th>2</th>\n",
       "      <td>NaN</td>\n",
       "      <td>2014-06</td>\n",
       "      <td>City of London Police</td>\n",
       "      <td>City of London Police</td>\n",
       "      <td>-0.097601</td>\n",
       "      <td>51.520699</td>\n",
       "      <td>On or near Carthusian Street</td>\n",
       "      <td>E01000001</td>\n",
       "      <td>City of London 001A</td>\n",
       "      <td>Anti-social behaviour</td>\n",
       "      <td>NaN</td>\n",
       "      <td>NaN</td>\n",
       "    </tr>\n",
       "    <tr>\n",
       "      <th>3</th>\n",
       "      <td>NaN</td>\n",
       "      <td>2014-06</td>\n",
       "      <td>City of London Police</td>\n",
       "      <td>City of London Police</td>\n",
       "      <td>-0.097601</td>\n",
       "      <td>51.520699</td>\n",
       "      <td>On or near Carthusian Street</td>\n",
       "      <td>E01000001</td>\n",
       "      <td>City of London 001A</td>\n",
       "      <td>Anti-social behaviour</td>\n",
       "      <td>NaN</td>\n",
       "      <td>NaN</td>\n",
       "    </tr>\n",
       "    <tr>\n",
       "      <th>4</th>\n",
       "      <td>NaN</td>\n",
       "      <td>2014-06</td>\n",
       "      <td>City of London Police</td>\n",
       "      <td>City of London Police</td>\n",
       "      <td>-0.097601</td>\n",
       "      <td>51.520699</td>\n",
       "      <td>On or near Carthusian Street</td>\n",
       "      <td>E01000001</td>\n",
       "      <td>City of London 001A</td>\n",
       "      <td>Anti-social behaviour</td>\n",
       "      <td>NaN</td>\n",
       "      <td>NaN</td>\n",
       "    </tr>\n",
       "  </tbody>\n",
       "</table>\n",
       "</div>"
      ],
      "text/plain": [
       "                                            Crime ID    Month  \\\n",
       "0  324a40f7da5f81b2f6c96bc6fe3e300173782e3342f409...  2014-06   \n",
       "1  62dde92ceeb12755a8a95a2829048ce4796ba3cfb3f7c0...  2014-06   \n",
       "2                                                NaN  2014-06   \n",
       "3                                                NaN  2014-06   \n",
       "4                                                NaN  2014-06   \n",
       "\n",
       "             Reported by           Falls within  Longitude   Latitude  \\\n",
       "0  City of London Police  City of London Police  -0.113767  51.517372   \n",
       "1  City of London Police  City of London Police  -0.111497  51.518226   \n",
       "2  City of London Police  City of London Police  -0.097601  51.520699   \n",
       "3  City of London Police  City of London Police  -0.097601  51.520699   \n",
       "4  City of London Police  City of London Police  -0.097601  51.520699   \n",
       "\n",
       "                       Location  LSOA code            LSOA name  \\\n",
       "0    On or near Stone Buildings  E01000914          Camden 028B   \n",
       "1  On or near Pedestrian Subway  E01000914          Camden 028B   \n",
       "2  On or near Carthusian Street  E01000001  City of London 001A   \n",
       "3  On or near Carthusian Street  E01000001  City of London 001A   \n",
       "4  On or near Carthusian Street  E01000001  City of London 001A   \n",
       "\n",
       "                     Crime type  \\\n",
       "0                 Vehicle crime   \n",
       "1  Violence and sexual offences   \n",
       "2         Anti-social behaviour   \n",
       "3         Anti-social behaviour   \n",
       "4         Anti-social behaviour   \n",
       "\n",
       "                           Last outcome category  Context  \n",
       "0  Investigation complete; no suspect identified      NaN  \n",
       "1                    Unable to prosecute suspect      NaN  \n",
       "2                                            NaN      NaN  \n",
       "3                                            NaN      NaN  \n",
       "4                                            NaN      NaN  "
      ]
     },
     "execution_count": 8,
     "metadata": {},
     "output_type": "execute_result"
    }
   ],
   "source": [
    "street.head()"
   ]
  },
  {
   "cell_type": "code",
   "execution_count": 8,
   "metadata": {},
   "outputs": [],
   "source": [
    "outcomes.drop(['Crime ID', 'Longitude', 'Latitude', 'LSOA code', 'LSOA name'], axis=1, inplace=True)"
   ]
  },
  {
   "cell_type": "code",
   "execution_count": 29,
   "metadata": {},
   "outputs": [
    {
     "name": "stdout",
     "output_type": "stream",
     "text": [
      "<class 'pandas.core.frame.DataFrame'>\n",
      "RangeIndex: 1947050 entries, 0 to 1947049\n",
      "Data columns (total 5 columns):\n",
      "Month           object\n",
      "Reported by     object\n",
      "Falls within    object\n",
      "Location        object\n",
      "Outcome type    object\n",
      "dtypes: object(5)\n",
      "memory usage: 74.3+ MB\n"
     ]
    }
   ],
   "source": [
    "outcomes.info()"
   ]
  },
  {
   "cell_type": "code",
   "execution_count": 9,
   "metadata": {},
   "outputs": [],
   "source": [
    "police.drop(['Latitude', 'Longitude'], axis=1, inplace=True)"
   ]
  },
  {
   "cell_type": "code",
   "execution_count": 13,
   "metadata": {},
   "outputs": [
    {
     "data": {
      "text/plain": [
       "Index(['Type', 'Date', 'Part of a policing operation', 'Policing operation',\n",
       "       'Gender', 'Age range', 'Self-defined ethnicity',\n",
       "       'Officer-defined ethnicity', 'Legislation', 'Object of search',\n",
       "       'Outcome', 'Outcome linked to object of search',\n",
       "       'Removal of more than just outer clothing'],\n",
       "      dtype='object')"
      ]
     },
     "execution_count": 13,
     "metadata": {},
     "output_type": "execute_result"
    }
   ],
   "source": [
    "police.columns"
   ]
  },
  {
   "cell_type": "code",
   "execution_count": 10,
   "metadata": {},
   "outputs": [
    {
     "data": {
      "text/plain": [
       "Index(['Month', 'Reported by', 'Falls within', 'Location', 'Crime type',\n",
       "       'Last outcome category'],\n",
       "      dtype='object')"
      ]
     },
     "execution_count": 10,
     "metadata": {},
     "output_type": "execute_result"
    }
   ],
   "source": [
    "street.drop(['Crime ID', 'Longitude', 'Latitude', 'LSOA code', 'LSOA name', 'Context'], axis=1, inplace=True)\n",
    "street.columns"
   ]
  },
  {
   "cell_type": "code",
   "execution_count": 30,
   "metadata": {},
   "outputs": [
    {
     "data": {
      "text/plain": [
       "array(['2014-06', '2014-07', '2014-08', '2014-09', '2014-10', '2014-11',\n",
       "       '2014-12', '2015-01', '2015-02', '2015-03', '2015-04', '2015-05',\n",
       "       '2015-06', '2015-07', '2015-08', '2015-09', '2015-10', '2015-11',\n",
       "       '2015-12', '2016-01', '2016-02', '2016-03', '2016-04', '2016-05',\n",
       "       '2016-06', '2016-07', '2016-08', '2016-09', '2016-10', '2016-11',\n",
       "       '2016-12', '2017-01', '2017-02', '2017-03', '2017-04', '2017-05'],\n",
       "      dtype=object)"
      ]
     },
     "execution_count": 30,
     "metadata": {},
     "output_type": "execute_result"
    }
   ],
   "source": [
    "street['Month'].unique()"
   ]
  },
  {
   "cell_type": "code",
   "execution_count": 33,
   "metadata": {},
   "outputs": [
    {
     "data": {
      "text/plain": [
       "2016-07    94148\n",
       "2017-05    91528\n",
       "2016-08    90636\n",
       "2017-03    89820\n",
       "2016-10    88518\n",
       "2014-07    88429\n",
       "2016-05    87373\n",
       "2015-07    87267\n",
       "2016-06    86261\n",
       "2016-09    85545\n",
       "2015-10    84966\n",
       "2014-10    84067\n",
       "2015-06    84047\n",
       "2017-04    83003\n",
       "2014-06    82920\n",
       "2016-12    82763\n",
       "2016-11    82179\n",
       "2015-11    82169\n",
       "2015-08    81843\n",
       "2014-09    81124\n",
       "2015-05    80902\n",
       "2014-08    80283\n",
       "2014-11    80016\n",
       "2017-01    79099\n",
       "2015-03    78858\n",
       "2015-12    78520\n",
       "2016-04    77651\n",
       "2015-09    77443\n",
       "2016-03    77349\n",
       "2017-02    76125\n",
       "2015-04    75654\n",
       "2016-01    75107\n",
       "2014-12    74500\n",
       "2016-02    73585\n",
       "2015-01    73469\n",
       "2015-02    69312\n",
       "Name: Month, dtype: int64"
      ]
     },
     "execution_count": 33,
     "metadata": {},
     "output_type": "execute_result"
    }
   ],
   "source": [
    "street['Month'].value_counts(dropna=False)"
   ]
  },
  {
   "cell_type": "code",
   "execution_count": 34,
   "metadata": {},
   "outputs": [
    {
     "data": {
      "text/plain": [
       "On or near Supermarket                            114770\n",
       "On or near Parking Area                            73814\n",
       "On or near Shopping Area                           71489\n",
       "On or near Petrol Station                          66311\n",
       "On or near Nightclub                               39125\n",
       "No Location                                        34678\n",
       "On or near Sports/Recreation Area                  33053\n",
       "On or near Pedestrian Subway                       26997\n",
       "On or near Further/Higher Educational Building     23630\n",
       "On or near Theatre/Concert Hall                    19736\n",
       "On or near Police Station                          19583\n",
       "On or near Hospital                                16615\n",
       "On or near Conference/Exhibition Centre             9054\n",
       "On or near High Street                              8948\n",
       "On or near Bus/Coach Station                        6667\n",
       "On or near Meridian Square                          6106\n",
       "On or near Park/Open Space                          5435\n",
       "On or near High Road                                5176\n",
       "On or near Station Road                             4461\n",
       "On or near Wallis Road                              3798\n",
       "On or near London Road                              3383\n",
       "On or near Station Approach                         2403\n",
       "On or near Church Road                              2389\n",
       "On or near Grove Road                               2252\n",
       "On or near The Broadway                             2144\n",
       "On or near Uxbridge Road                            2090\n",
       "On or near Airport/Airfield                         2083\n",
       "On or near Green Lanes                              1894\n",
       "On or near Queen'S Road                             1880\n",
       "On or near Waterloo Road                            1880\n",
       "                                                   ...  \n",
       "On or near Marshall Avenue                             1\n",
       "On or near Wylands Road                                1\n",
       "On or near Griffin Way                                 1\n",
       "On or near Juniper Place                               1\n",
       "On or near Stilemoor Rise                              1\n",
       "On or near The Arboretum                               1\n",
       "On or near Priors Close                                1\n",
       "On or near Oaken Lane                                  1\n",
       "On or near Ingleside                                   1\n",
       "On or near Brewery Walk                                1\n",
       "On or near Merryhill Green Lane                        1\n",
       "On or near Galloway Drive                              1\n",
       "On or near Lower High Street                           1\n",
       "On or near Hove Close                                  1\n",
       "On or near Metz Way                                    1\n",
       "On or near Bredune                                     1\n",
       "On or near St Michael'S Mount                          1\n",
       "On or near Cole Park Road                              1\n",
       "On or near Ravenshill                                  1\n",
       "On or near The Courtway                                1\n",
       "On or near Doncaster Lane                              1\n",
       "On or near Marston                                     1\n",
       "On or near Wyre Road                                   1\n",
       "On or near Palmer Drive                                1\n",
       "On or near Stonefield Road                             1\n",
       "On or near Francis Close                               1\n",
       "On or near Whale Avenue                                1\n",
       "On or near Coke'S Farm Lane                            1\n",
       "On or near Barnett Green                               1\n",
       "On or near Herdsdown                                   1\n",
       "Name: Location, Length: 36490, dtype: int64"
      ]
     },
     "execution_count": 34,
     "metadata": {},
     "output_type": "execute_result"
    }
   ],
   "source": [
    "street['Location'].value_counts(dropna=False)"
   ]
  },
  {
   "cell_type": "code",
   "execution_count": 31,
   "metadata": {},
   "outputs": [
    {
     "data": {
      "text/plain": [
       "array(['On or near Stone Buildings', 'On or near Pedestrian Subway',\n",
       "       'On or near Carthusian Street', ..., 'On or near Sorrel Lane',\n",
       "       'On or near Pilmer Court', 'On or near Foxes Walk'], dtype=object)"
      ]
     },
     "execution_count": 31,
     "metadata": {},
     "output_type": "execute_result"
    }
   ],
   "source": [
    "street['Location'].unique()"
   ]
  },
  {
   "cell_type": "code",
   "execution_count": 35,
   "metadata": {},
   "outputs": [
    {
     "data": {
      "text/plain": [
       "Investigation complete; no suspect identified          1084406\n",
       "NaN                                                     708264\n",
       "Status update unavailable                               625938\n",
       "Under investigation                                     166240\n",
       "Offender given a caution                                 63439\n",
       "Court result unavailable                                 49821\n",
       "Offender given a drugs possession warning                39297\n",
       "Defendant found not guilty                               28398\n",
       "Awaiting court outcome                                   27954\n",
       "Offender sent to prison                                  27832\n",
       "Offender given community sentence                        23629\n",
       "Local resolution                                         20771\n",
       "Offender fined                                           19857\n",
       "Offender given penalty notice                            18884\n",
       "Offender given suspended prison sentence                 13368\n",
       "Offender given conditional discharge                     11567\n",
       "Court case unable to proceed                              8507\n",
       "Offender otherwise dealt with                             2460\n",
       "Unable to prosecute suspect                               1737\n",
       "Offender ordered to pay compensation                      1660\n",
       "Offender deprived of property                             1240\n",
       "Suspect charged as part of another case                    537\n",
       "Offender given absolute discharge                          309\n",
       "Defendant sent to Crown Court                              192\n",
       "Formal action is not in the public interest                156\n",
       "Further investigation is not in the public interest         13\n",
       "Action to be taken by another organisation                   3\n",
       "Name: Last outcome category, dtype: int64"
      ]
     },
     "execution_count": 35,
     "metadata": {},
     "output_type": "execute_result"
    }
   ],
   "source": [
    "street['Last outcome category'].value_counts(dropna=False)"
   ]
  },
  {
   "cell_type": "code",
   "execution_count": 25,
   "metadata": {},
   "outputs": [
    {
     "data": {
      "text/plain": [
       "Anti-social behaviour           708264\n",
       "Violence and sexual offences    596107\n",
       "Other theft                     333817\n",
       "Vehicle crime                   262309\n",
       "Burglary                        213125\n",
       "Criminal damage and arson       184772\n",
       "Shoplifting                     135780\n",
       "Public order                    130653\n",
       "Theft from the person           109168\n",
       "Drugs                           106836\n",
       "Robbery                          68920\n",
       "Bicycle theft                    54649\n",
       "Other crime                      29208\n",
       "Possession of weapons            12871\n",
       "Name: Crime type, dtype: int64"
      ]
     },
     "execution_count": 25,
     "metadata": {},
     "output_type": "execute_result"
    }
   ],
   "source": [
    "street['Crime type'].value_counts(dropna=False)"
   ]
  },
  {
   "cell_type": "code",
   "execution_count": 15,
   "metadata": {},
   "outputs": [
    {
     "data": {
      "image/png": "[encoded data removed]",
      "text/plain": [
       "<Figure size 432x288 with 1 Axes>"
      ]
     },
     "metadata": {
      "needs_background": "light"
     },
     "output_type": "display_data"
    }
   ],
   "source": [
    "x = street['Crime type'].tolist()\n",
    "plt.hist(x, bins=50)\n",
    "plt.ylabel(\"Frequency\")\n",
    "plt.xlabel(\"Crime Type\")\n",
    "plt.title(\"Crimes in the city of London\")\n",
    "plt.xticks(rotation='vertical')\n",
    "plt.show()"
   ]
  },
  {
   "cell_type": "code",
   "execution_count": 12,
   "metadata": {},
   "outputs": [
    {
     "data": {
      "text/plain": [
       "2016-07    94148\n",
       "2017-05    91528\n",
       "2016-08    90636\n",
       "2017-03    89820\n",
       "2016-10    88518\n",
       "2014-07    88429\n",
       "2016-05    87373\n",
       "2015-07    87267\n",
       "2016-06    86261\n",
       "2016-09    85545\n",
       "2015-10    84966\n",
       "2014-10    84067\n",
       "2015-06    84047\n",
       "2017-04    83003\n",
       "2014-06    82920\n",
       "2016-12    82763\n",
       "2016-11    82179\n",
       "2015-11    82169\n",
       "2015-08    81843\n",
       "2014-09    81124\n",
       "2015-05    80902\n",
       "2014-08    80283\n",
       "2014-11    80016\n",
       "2017-01    79099\n",
       "2015-03    78858\n",
       "2015-12    78520\n",
       "2016-04    77651\n",
       "2015-09    77443\n",
       "2016-03    77349\n",
       "2017-02    76125\n",
       "2015-04    75654\n",
       "2016-01    75107\n",
       "2014-12    74500\n",
       "2016-02    73585\n",
       "2015-01    73469\n",
       "2015-02    69312\n",
       "Name: Month, dtype: int64"
      ]
     },
     "execution_count": 12,
     "metadata": {},
     "output_type": "execute_result"
    }
   ],
   "source": [
    "street['Month'].value_counts(dropna=False)"
   ]
  },
  {
   "cell_type": "code",
   "execution_count": 14,
   "metadata": {},
   "outputs": [
    {
     "data": {
      "text/html": [
       "<div>\n",
       "<style scoped>\n",
       "    .dataframe tbody tr th:only-of-type {\n",
       "        vertical-align: middle;\n",
       "    }\n",
       "\n",
       "    .dataframe tbody tr th {\n",
       "        vertical-align: top;\n",
       "    }\n",
       "\n",
       "    .dataframe thead th {\n",
       "        text-align: right;\n",
       "    }\n",
       "</style>\n",
       "<table border=\"1\" class=\"dataframe\">\n",
       "  <thead>\n",
       "    <tr style=\"text-align: right;\">\n",
       "      <th></th>\n",
       "      <th>Month</th>\n",
       "      <th>Reported by</th>\n",
       "      <th>Falls within</th>\n",
       "      <th>Location</th>\n",
       "      <th>Crime type</th>\n",
       "      <th>Last outcome category</th>\n",
       "    </tr>\n",
       "  </thead>\n",
       "  <tbody>\n",
       "    <tr>\n",
       "      <th>97</th>\n",
       "      <td>2014-06</td>\n",
       "      <td>City of London Police</td>\n",
       "      <td>City of London Police</td>\n",
       "      <td>On or near Police Station</td>\n",
       "      <td>Anti-social behaviour</td>\n",
       "      <td>NaN</td>\n",
       "    </tr>\n",
       "    <tr>\n",
       "      <th>104</th>\n",
       "      <td>2014-06</td>\n",
       "      <td>City of London Police</td>\n",
       "      <td>City of London Police</td>\n",
       "      <td>On or near Police Station</td>\n",
       "      <td>Anti-social behaviour</td>\n",
       "      <td>NaN</td>\n",
       "    </tr>\n",
       "    <tr>\n",
       "      <th>105</th>\n",
       "      <td>2014-06</td>\n",
       "      <td>City of London Police</td>\n",
       "      <td>City of London Police</td>\n",
       "      <td>On or near Police Station</td>\n",
       "      <td>Anti-social behaviour</td>\n",
       "      <td>NaN</td>\n",
       "    </tr>\n",
       "    <tr>\n",
       "      <th>113</th>\n",
       "      <td>2014-06</td>\n",
       "      <td>City of London Police</td>\n",
       "      <td>City of London Police</td>\n",
       "      <td>On or near Police Station</td>\n",
       "      <td>Anti-social behaviour</td>\n",
       "      <td>NaN</td>\n",
       "    </tr>\n",
       "    <tr>\n",
       "      <th>161</th>\n",
       "      <td>2014-06</td>\n",
       "      <td>City of London Police</td>\n",
       "      <td>City of London Police</td>\n",
       "      <td>On or near Police Station</td>\n",
       "      <td>Drugs</td>\n",
       "      <td>Offender given a drugs possession warning</td>\n",
       "    </tr>\n",
       "  </tbody>\n",
       "</table>\n",
       "</div>"
      ],
      "text/plain": [
       "       Month            Reported by           Falls within  \\\n",
       "97   2014-06  City of London Police  City of London Police   \n",
       "104  2014-06  City of London Police  City of London Police   \n",
       "105  2014-06  City of London Police  City of London Police   \n",
       "113  2014-06  City of London Police  City of London Police   \n",
       "161  2014-06  City of London Police  City of London Police   \n",
       "\n",
       "                      Location             Crime type  \\\n",
       "97   On or near Police Station  Anti-social behaviour   \n",
       "104  On or near Police Station  Anti-social behaviour   \n",
       "105  On or near Police Station  Anti-social behaviour   \n",
       "113  On or near Police Station  Anti-social behaviour   \n",
       "161  On or near Police Station                  Drugs   \n",
       "\n",
       "                         Last outcome category  \n",
       "97                                         NaN  \n",
       "104                                        NaN  \n",
       "105                                        NaN  \n",
       "113                                        NaN  \n",
       "161  Offender given a drugs possession warning  "
      ]
     },
     "execution_count": 14,
     "metadata": {},
     "output_type": "execute_result"
    }
   ],
   "source": [
    "policePresent = street[street['Location'] == 'On or near Police Station']\n",
    "policePresent.head()"
   ]
  },
  {
   "cell_type": "code",
   "execution_count": 16,
   "metadata": {},
   "outputs": [
    {
     "data": {
      "image/png": "[encoded data removed]",
      "text/plain": [
       "<Figure size 432x288 with 1 Axes>"
      ]
     },
     "metadata": {
      "needs_background": "light"
     },
     "output_type": "display_data"
    }
   ],
   "source": [
    "x = policePresent['Crime type'].tolist()\n",
    "plt.hist(x, bins=50)\n",
    "plt.ylabel(\"Frequency\")\n",
    "plt.xlabel(\"Crime Type\")\n",
    "plt.title(\"Crimes with the presence City of London Police\")\n",
    "plt.xticks(rotation='vertical')\n",
    "plt.show()"
   ]
  },
  {
   "cell_type": "code",
   "execution_count": null,
   "metadata": {},
   "outputs": [],
   "source": []
  }
 ],
 "metadata": {
  "kernelspec": {
   "display_name": "Python 3",
   "language": "python",
   "name": "python3"
  },
  "language_info": {
   "codemirror_mode": {
    "name": "ipython",
    "version": 3
   },
   "file_extension": ".py",
   "mimetype": "text/x-python",
   "name": "python",
   "nbconvert_exporter": "python",
   "pygments_lexer": "ipython3",
   "version": "3.7.1"
  }
 },
 "nbformat": 4,
 "nbformat_minor": 2
}
